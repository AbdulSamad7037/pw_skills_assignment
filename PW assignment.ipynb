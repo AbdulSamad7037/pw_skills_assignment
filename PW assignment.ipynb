{
 "cells": [
  {
   "cell_type": "markdown",
   "id": "b8b302b7-180d-4f3e-a333-756d485ba1f3",
   "metadata": {},
   "source": [
    "1.7. Write a program to create a simple calculator performing only four basic operations(+,-,/,*) ."
   ]
  },
  {
   "cell_type": "code",
   "execution_count": 1,
   "id": "09b056a2-60cc-442d-ac29-faf03a7ca3fd",
   "metadata": {},
   "outputs": [
    {
     "name": "stdout",
     "output_type": "stream",
     "text": [
      "Select operation:\n",
      "1. Add\n",
      "2. Subtract\n",
      "3. Multiply\n",
      "4. Divide\n"
     ]
    },
    {
     "name": "stdin",
     "output_type": "stream",
     "text": [
      "Enter choice(1/2/3/4):  1\n",
      "Enter first number:  3\n",
      "Enter second number:  4\n"
     ]
    },
    {
     "name": "stdout",
     "output_type": "stream",
     "text": [
      "3.0 + 4.0 = 7.0\n"
     ]
    }
   ],
   "source": [
    "def add(x, y):\n",
    "    return x + y\n",
    "\n",
    "def subtract(x, y):\n",
    "    return x - y\n",
    "\n",
    "def multiply(x, y):\n",
    "    return x * y\n",
    "\n",
    "def divide(x, y):\n",
    "    if y != 0:\n",
    "        return x / y\n",
    "    else:\n",
    "        return \"Error! Division by zero.\"\n",
    "\n",
    "def calculator():\n",
    "    print(\"Select operation:\")\n",
    "    print(\"1. Add\")\n",
    "    print(\"2. Subtract\")\n",
    "    print(\"3. Multiply\")\n",
    "    print(\"4. Divide\")\n",
    "\n",
    "    choice = input(\"Enter choice(1/2/3/4): \")\n",
    "\n",
    "    if choice in ['1', '2', '3', '4']:\n",
    "        num1 = float(input(\"Enter first number: \"))\n",
    "        num2 = float(input(\"Enter second number: \"))\n",
    "\n",
    "        if choice == '1':\n",
    "            print(f\"{num1} + {num2} = {add(num1, num2)}\")\n",
    "        elif choice == '2':\n",
    "            print(f\"{num1} - {num2} = {subtract(num1, num2)}\")\n",
    "        elif choice == '3':\n",
    "            print(f\"{num1} * {num2} = {multiply(num1, num2)}\")\n",
    "        elif choice == '4':\n",
    "            print(f\"{num1} / {num2} = {divide(num1, num2)}\")\n",
    "    else:\n",
    "        print(\"Invalid Input\")\n",
    "\n",
    "# Run the calculator\n",
    "calculator()\n"
   ]
  },
  {
   "cell_type": "markdown",
   "id": "5cfdeaed-80ea-4ffc-b86e-9808ab0df2a0",
   "metadata": {},
   "source": [
    "1.9. Write a program to find the factors of a whole number using a while loop."
   ]
  },
  {
   "cell_type": "code",
   "execution_count": 2,
   "id": "b1f767ce-328d-49f8-88f6-07317688fa36",
   "metadata": {},
   "outputs": [
    {
     "name": "stdin",
     "output_type": "stream",
     "text": [
      "Enter a whole number:  3\n"
     ]
    },
    {
     "name": "stdout",
     "output_type": "stream",
     "text": [
      "The factors of 3 are: [1, 3]\n"
     ]
    }
   ],
   "source": [
    "def find_factors(num):\n",
    "    factors = []\n",
    "    i = 1\n",
    "\n",
    "    while i <= num:\n",
    "        if num % i == 0:\n",
    "            factors.append(i)\n",
    "        i += 1\n",
    "\n",
    "    return factors\n",
    "\n",
    "# Input from the user\n",
    "number = int(input(\"Enter a whole number: \"))\n",
    "\n",
    "# Find and print the factors\n",
    "factors = find_factors(number)\n",
    "print(f\"The factors of {number} are: {factors}\")\n"
   ]
  },
  {
   "cell_type": "markdown",
   "id": "260f57a5-947d-42d9-941a-0cb818e80e66",
   "metadata": {},
   "source": [
    "1.11. Write a program to find prime numbers between 2 to 100 using nested for loops."
   ]
  },
  {
   "cell_type": "code",
   "execution_count": 3,
   "id": "ed2f50e5-0981-41d8-a451-e3771e826e65",
   "metadata": {},
   "outputs": [
    {
     "name": "stdout",
     "output_type": "stream",
     "text": [
      "Prime numbers between 2 and 100 are: [2, 3, 5, 7, 11, 13, 17, 19, 23, 29, 31, 37, 41, 43, 47, 53, 59, 61, 67, 71, 73, 79, 83, 89, 97]\n"
     ]
    }
   ],
   "source": [
    "def find_primes():\n",
    "    primes = []\n",
    "    \n",
    "    for num in range(2, 101):  # Loop through numbers from 2 to 100\n",
    "        is_prime = True\n",
    "        for i in range(2, int(num**0.5) + 1):  # Loop from 2 to the square root of the number\n",
    "            if num % i == 0:  # If num is divisible by i, it's not prime\n",
    "                is_prime = False\n",
    "                break\n",
    "        if is_prime:  # If no divisors were found, num is prime\n",
    "            primes.append(num)\n",
    "    \n",
    "    return primes\n",
    "\n",
    "# Find and print prime numbers between 2 and 100\n",
    "prime_numbers = find_primes()\n",
    "print(f\"Prime numbers between 2 and 100 are: {prime_numbers}\")\n"
   ]
  },
  {
   "cell_type": "markdown",
   "id": "9a52baa4-1ab2-475e-afbd-84eb346afdc6",
   "metadata": {},
   "source": [
    "1.14.Consider the gravitational interactions between the Earth, Moon, and Sun in our solar system.\n",
    "Given:\n",
    "mass_earth = 5.972e24 # Mass of Earth in kilograms\n",
    "mass_moon = 7.34767309e22 # Mass of Moon in kilograms\n",
    "mass_sun = .989e30 # Mass of Sun in kilograms\n",
    "distan0e_earth_sun = .496e # Average distan0e between Earth and Sun in meters\n",
    "distan0e_moon_earth = 3.844e8 # Average distan0e between Moon and Earth in meters\n",
    "Tasks\n",
    "/ Cal0ulate the gravitational for0e between the Earth and the Sun\n",
    "/ Cal0ulate the gravitational for0e between the Moon and the Earth\n",
    "/ Compare the 0al0ulated for0es to determine whi0h gravitational for0e is stronger\n",
    "/ Explain whi0h 0elestial body (Earth or Moon is more attra0ted to the other based on the 0omparison."
   ]
  },
  {
   "cell_type": "code",
   "execution_count": 4,
   "id": "1e23b9cb-b2d8-4eb5-b70b-873e741a3170",
   "metadata": {},
   "outputs": [
    {
     "data": {
      "text/plain": [
       "(3.5423960813684973e+22, 1.9820225456526813e+20)"
      ]
     },
     "execution_count": 4,
     "metadata": {},
     "output_type": "execute_result"
    }
   ],
   "source": [
    "# Constants\n",
    "G = 6.67430e-11  # Gravitational constant in m^3 kg^-1 s^-2\n",
    "\n",
    "# Given values\n",
    "mass_earth = 5.972e24  # kg\n",
    "mass_moon = 7.34767309e22  # kg\n",
    "mass_sun = 1.989e30  # kg\n",
    "distance_earth_sun = 1.496e11  # meters\n",
    "distance_moon_earth = 3.844e8  # meters\n",
    "\n",
    "# Gravitational force between Earth and Sun\n",
    "F_earth_sun = G * (mass_earth * mass_sun) / (distance_earth_sun ** 2)\n",
    "\n",
    "# Gravitational force between Moon and Earth\n",
    "F_moon_earth = G * (mass_moon * mass_earth) / (distance_moon_earth ** 2)\n",
    "\n",
    "# Print results\n",
    "F_earth_sun, F_moon_earth\n"
   ]
  },
  {
   "cell_type": "markdown",
   "id": "178780ee-ac3e-4036-96ea-f8d05a005608",
   "metadata": {},
   "source": [
    "## 4.Create a simple baning system using object-oriented concepts in Python. Design classes representing\n",
    "different types of ban accounts such as savings and checing. Implement methods for deposit, withdraw,\n",
    "and balance inquiry. Utilize inheritance to manage different account types efficiently."
   ]
  },
  {
   "cell_type": "code",
   "execution_count": 5,
   "id": "425f81cc-1b36-4f88-bf8c-8e2a06dd913d",
   "metadata": {},
   "outputs": [
    {
     "name": "stdout",
     "output_type": "stream",
     "text": [
      "Deposited $200. New balance: $1200\n",
      "Withdrew $50. New balance: $1150\n",
      "Account S12345 balance: $1150\n",
      "Deposited $300. New balance: $800\n",
      "Withdrew $700. New balance: $100\n",
      "Account C12345 balance: $100\n"
     ]
    }
   ],
   "source": [
    "class BankAccount:\n",
    "    def __init__(self, account_number, balance=0):\n",
    "        self.account_number = account_number\n",
    "        self.balance = balance\n",
    "\n",
    "    def deposit(self, amount):\n",
    "        if amount > 0:\n",
    "            self.balance += amount\n",
    "            print(f\"Deposited ${amount}. New balance: ${self.balance}\")\n",
    "        else:\n",
    "            print(\"Deposit amount must be positive.\")\n",
    "\n",
    "    def withdraw(self, amount):\n",
    "        if amount > 0:\n",
    "            if self.balance >= amount:\n",
    "                self.balance -= amount\n",
    "                print(f\"Withdrew ${amount}. New balance: ${self.balance}\")\n",
    "            else:\n",
    "                print(\"Insufficient funds.\")\n",
    "        else:\n",
    "            print(\"Withdraw amount must be positive.\")\n",
    "\n",
    "    def inquire_balance(self):\n",
    "        print(f\"Account {self.account_number} balance: ${self.balance}\")\n",
    "\n",
    "class SavingsAccount(BankAccount):\n",
    "    def __init__(self, account_number, balance=0):\n",
    "        super().__init__(account_number, balance)\n",
    "\n",
    "class CheckingAccount(BankAccount):\n",
    "    def __init__(self, account_number, balance=0):\n",
    "        super().__init__(account_number, balance)\n",
    "\n",
    "# Example usage\n",
    "savings = SavingsAccount(\"S12345\", 1000)\n",
    "checking = CheckingAccount(\"C12345\", 500)\n",
    "\n",
    "# Perform operations\n",
    "savings.deposit(200)\n",
    "savings.withdraw(50)\n",
    "savings.inquire_balance()\n",
    "\n",
    "checking.deposit(300)\n",
    "checking.withdraw(700)\n",
    "checking.inquire_balance()\n"
   ]
  },
  {
   "cell_type": "markdown",
   "id": "3093925e-583f-4bac-a3f0-a205c39abc16",
   "metadata": {},
   "source": [
    "## .Write a code for Restaurant Management System Using OO4S3\n",
    "& Create a MenuItem 'lass that has attributes su'h as name, des'ription, pri'e, and 'ategory\n",
    "& Implement methods to add a new menu item, update menu item information, and remove a menu item\n",
    "from the menu\n",
    "& Use en'apsulation to hide the menu item's unique identifi'ation number\n",
    "& Inherit from the MenuItem 'lass to 'reate a FoodItem 'lass and a BeverageItem 'lass, ea'h with their own\n",
    "spe'ifi' attributes and methods."
   ]
  },
  {
   "cell_type": "code",
   "execution_count": 6,
   "id": "f6908055-f17d-436a-b100-13fc8f95563a",
   "metadata": {},
   "outputs": [
    {
     "name": "stdout",
     "output_type": "stream",
     "text": [
      "Added: Burger\n",
      "Added: Salad\n",
      "Added: Coffee\n",
      "Added: Wine\n",
      "Menu:\n",
      "ID: 1, Name: Burger, Description: Beef burger with lettuce, Price: $8.99, Category: Main Course\n",
      "Vegan: False\n",
      "ID: 2, Name: Salad, Description: Fresh garden salad, Price: $5.99, Category: Appetizer\n",
      "Vegan: True\n",
      "ID: 3, Name: Coffee, Description: Freshly brewed coffee, Price: $2.99, Category: Beverage\n",
      "Alcoholic: False\n",
      "ID: 4, Name: Wine, Description: Red wine, Price: $6.99, Category: Beverage\n",
      "Alcoholic: True\n",
      "Updated: Burger\n",
      "Removed: Salad\n",
      "Menu:\n",
      "ID: 1, Name: Burger, Description: Beef burger with lettuce, Price: $9.49, Category: Main Course\n",
      "Vegan: False\n",
      "ID: 3, Name: Coffee, Description: Freshly brewed coffee, Price: $2.99, Category: Beverage\n",
      "Alcoholic: False\n",
      "ID: 4, Name: Wine, Description: Red wine, Price: $6.99, Category: Beverage\n",
      "Alcoholic: True\n"
     ]
    }
   ],
   "source": [
    "class MenuItem:\n",
    "    _id_counter = 1  # Class variable to generate unique IDs\n",
    "\n",
    "    def __init__(self, name, description, price, category):\n",
    "        self._id = MenuItem._id_counter\n",
    "        MenuItem._id_counter += 1\n",
    "        self.name = name\n",
    "        self.description = description\n",
    "        self.price = price\n",
    "        self.category = category\n",
    "\n",
    "    def update_item(self, name=None, description=None, price=None, category=None):\n",
    "        if name is not None:\n",
    "            self.name = name\n",
    "        if description is not None:\n",
    "            self.description = description\n",
    "        if price is not None:\n",
    "            self.price = price\n",
    "        if category is not None:\n",
    "            self.category = category\n",
    "\n",
    "    def display(self):\n",
    "        print(f\"ID: {self._id}, Name: {self.name}, Description: {self.description}, Price: ${self.price}, Category: {self.category}\")\n",
    "\n",
    "class FoodItem(MenuItem):\n",
    "    def __init__(self, name, description, price, category, is_vegan=False):\n",
    "        super().__init__(name, description, price, category)\n",
    "        self.is_vegan = is_vegan\n",
    "\n",
    "    def display(self):\n",
    "        super().display()\n",
    "        print(f\"Vegan: {self.is_vegan}\")\n",
    "\n",
    "class BeverageItem(MenuItem):\n",
    "    def __init__(self, name, description, price, category, is_alcoholic=False):\n",
    "        super().__init__(name, description, price, category)\n",
    "        self.is_alcoholic = is_alcoholic\n",
    "\n",
    "    def display(self):\n",
    "        super().display()\n",
    "        print(f\"Alcoholic: {self.is_alcoholic}\")\n",
    "\n",
    "class Menu:\n",
    "    def __init__(self):\n",
    "        self.items = []\n",
    "\n",
    "    def add_item(self, item):\n",
    "        self.items.append(item)\n",
    "        print(f\"Added: {item.name}\")\n",
    "\n",
    "    def remove_item(self, item_id):\n",
    "        for item in self.items:\n",
    "            if item._id == item_id:\n",
    "                self.items.remove(item)\n",
    "                print(f\"Removed: {item.name}\")\n",
    "                return\n",
    "        print(\"Item not found\")\n",
    "\n",
    "    def update_item(self, item_id, name=None, description=None, price=None, category=None):\n",
    "        for item in self.items:\n",
    "            if item._id == item_id:\n",
    "                item.update_item(name, description, price, category)\n",
    "                print(f\"Updated: {item.name}\")\n",
    "                return\n",
    "        print(\"Item not found\")\n",
    "\n",
    "    def display_menu(self):\n",
    "        print(\"Menu:\")\n",
    "        for item in self.items:\n",
    "            item.display()\n",
    "\n",
    "# Example usage\n",
    "menu = Menu()\n",
    "\n",
    "# Create food items and beverage items\n",
    "burger = FoodItem(name=\"Burger\", description=\"Beef burger with lettuce\", price=8.99, category=\"Main Course\", is_vegan=False)\n",
    "salad = FoodItem(name=\"Salad\", description=\"Fresh garden salad\", price=5.99, category=\"Appetizer\", is_vegan=True)\n",
    "coffee = BeverageItem(name=\"Coffee\", description=\"Freshly brewed coffee\", price=2.99, category=\"Beverage\", is_alcoholic=False)\n",
    "wine = BeverageItem(name=\"Wine\", description=\"Red wine\", price=6.99, category=\"Beverage\", is_alcoholic=True)\n",
    "\n",
    "# Add items to the menu\n",
    "menu.add_item(burger)\n",
    "menu.add_item(salad)\n",
    "menu.add_item(coffee)\n",
    "menu.add_item(wine)\n",
    "\n",
    "# Display menu\n",
    "menu.display_menu()\n",
    "\n",
    "# Update an item\n",
    "menu.update_item(burger._id, price=9.49)\n",
    "\n",
    "# Remove an item\n",
    "menu.remove_item(salad._id)\n",
    "\n",
    "# Display menu again\n",
    "menu.display_menu()\n"
   ]
  },
  {
   "cell_type": "markdown",
   "id": "f7ccaf16-dc04-4069-98a6-c535d9fb40ee",
   "metadata": {},
   "source": [
    "## 8.Write a code for Fitness Club Management System using OO4S3\n",
    "& Create a Member 'lass that has attributes su'h as name, age, membership type, and membership status\n",
    "(private)\n",
    "& Implement methods to register a new member, renew a membership, and 'an'el a membership\n",
    "& Use en'apsulation to hide the member's unique identifi'ation number\n",
    "& Inherit from the Member 'lass to 'reate a FamilyMember 'lass and an IndividualMember 'lass, ea'h with\n",
    "their own spe'ifi' attributes and methods"
   ]
  },
  {
   "cell_type": "code",
   "execution_count": 7,
   "id": "4a8fee82-2351-45b7-aff7-9b97beed06d6",
   "metadata": {},
   "outputs": [
    {
     "name": "stdout",
     "output_type": "stream",
     "text": [
      "Registered: John Doe\n",
      "Registered: Jane Doe\n",
      "Members List:\n",
      "ID: 1, Name: John Doe, Age: 30, Membership Type: Individual, Status: Active\n",
      "Personal Trainer: True\n",
      "ID: 2, Name: Jane Doe, Age: 28, Membership Type: Family, Status: Active\n",
      "Family Size: 4\n",
      "Membership for John Doe has been renewed.\n",
      "Membership for Jane Doe has been cancelled.\n",
      "Members List:\n",
      "ID: 1, Name: John Doe, Age: 30, Membership Type: Individual, Status: Active\n",
      "Personal Trainer: True\n",
      "ID: 2, Name: Jane Doe, Age: 28, Membership Type: Family, Status: Cancelled\n",
      "Family Size: 4\n"
     ]
    }
   ],
   "source": [
    "class Member:\n",
    "    _id_counter = 1  # Class variable to generate unique IDs\n",
    "\n",
    "    def __init__(self, name, age, membership_type):\n",
    "        self._id = Member._id_counter\n",
    "        Member._id_counter += 1\n",
    "        self.name = name\n",
    "        self.age = age\n",
    "        self.membership_type = membership_type\n",
    "        self._membership_status = \"Active\"\n",
    "\n",
    "    def renew_membership(self):\n",
    "        self._membership_status = \"Active\"\n",
    "        print(f\"Membership for {self.name} has been renewed.\")\n",
    "\n",
    "    def cancel_membership(self):\n",
    "        self._membership_status = \"Cancelled\"\n",
    "        print(f\"Membership for {self.name} has been cancelled.\")\n",
    "\n",
    "    def display(self):\n",
    "        print(f\"ID: {self._id}, Name: {self.name}, Age: {self.age}, Membership Type: {self.membership_type}, Status: {self._membership_status}\")\n",
    "\n",
    "class FamilyMember(Member):\n",
    "    def __init__(self, name, age, membership_type, family_size):\n",
    "        super().__init__(name, age, membership_type)\n",
    "        self.family_size = family_size\n",
    "\n",
    "    def display(self):\n",
    "        super().display()\n",
    "        print(f\"Family Size: {self.family_size}\")\n",
    "\n",
    "class IndividualMember(Member):\n",
    "    def __init__(self, name, age, membership_type, personal_trainer=False):\n",
    "        super().__init__(name, age, membership_type)\n",
    "        self.personal_trainer = personal_trainer\n",
    "\n",
    "    def display(self):\n",
    "        super().display()\n",
    "        print(f\"Personal Trainer: {self.personal_trainer}\")\n",
    "\n",
    "class FitnessClub:\n",
    "    def __init__(self):\n",
    "        self.members = []\n",
    "\n",
    "    def register_member(self, member):\n",
    "        self.members.append(member)\n",
    "        print(f\"Registered: {member.name}\")\n",
    "\n",
    "    def find_member_by_id(self, member_id):\n",
    "        for member in self.members:\n",
    "            if member._id == member_id:\n",
    "                return member\n",
    "        return None\n",
    "\n",
    "    def renew_membership(self, member_id):\n",
    "        member = self.find_member_by_id(member_id)\n",
    "        if member:\n",
    "            member.renew_membership()\n",
    "        else:\n",
    "            print(\"Member not found.\")\n",
    "\n",
    "    def cancel_membership(self, member_id):\n",
    "        member = self.find_member_by_id(member_id)\n",
    "        if member:\n",
    "            member.cancel_membership()\n",
    "        else:\n",
    "            print(\"Member not found.\")\n",
    "\n",
    "    def display_members(self):\n",
    "        print(\"Members List:\")\n",
    "        for member in self.members:\n",
    "            member.display()\n",
    "\n",
    "# Example usage\n",
    "club = FitnessClub()\n",
    "\n",
    "# Create individual and family members\n",
    "john = IndividualMember(name=\"John Doe\", age=30, membership_type=\"Individual\", personal_trainer=True)\n",
    "jane = FamilyMember(name=\"Jane Doe\", age=28, membership_type=\"Family\", family_size=4)\n",
    "\n",
    "# Register members\n",
    "club.register_member(john)\n",
    "club.register_member(jane)\n",
    "\n",
    "# Display members\n",
    "club.display_members()\n",
    "\n",
    "# Renew membership for John\n",
    "club.renew_membership(john._id)\n",
    "\n",
    "# Cancel membership for Jane\n",
    "club.cancel_membership(jane._id)\n",
    "\n",
    "# Display members again\n",
    "club.display_members()\n"
   ]
  },
  {
   "cell_type": "markdown",
   "id": "45745548-abb3-495c-beb0-19685ce469cb",
   "metadata": {},
   "source": [
    "## 12. Write a Python module named calculator.py containing functions for addition, subtraction,\n",
    "multiplication, and division."
   ]
  },
  {
   "cell_type": "code",
   "execution_count": 8,
   "id": "db167d18-9db0-4ef3-b9c9-3e754c644e16",
   "metadata": {},
   "outputs": [
    {
     "name": "stdout",
     "output_type": "stream",
     "text": [
      "Addition of 10 and 5 is: 15\n",
      "Subtraction of 10 and 5 is: 5\n",
      "Multiplication of 10 and 5 is: 50\n",
      "Division of 10 by 5 is: 2.0\n"
     ]
    }
   ],
   "source": [
    "# calculator.py\n",
    "\n",
    "def add(a, b):\n",
    "    \"\"\"Return the sum of a and b.\"\"\"\n",
    "    return a + b\n",
    "\n",
    "def subtract(a, b):\n",
    "    \"\"\"Return the difference of a and b.\"\"\"\n",
    "    return a - b\n",
    "\n",
    "def multiply(a, b):\n",
    "    \"\"\"Return the product of a and b.\"\"\"\n",
    "    return a * b\n",
    "\n",
    "def divide(a, b):\n",
    "    \"\"\"Return the quotient of a and b. Raise an error if b is zero.\"\"\"\n",
    "    if b == 0:\n",
    "        raise ValueError(\"Cannot divide by zero.\")\n",
    "    return a / b\n",
    "\n",
    "# Example usage (This part can be removed if you want to keep the module clean)\n",
    "if __name__ == \"__main__\":\n",
    "    print(\"Addition of 10 and 5 is:\", add(10, 5))\n",
    "    print(\"Subtraction of 10 and 5 is:\", subtract(10, 5))\n",
    "    print(\"Multiplication of 10 and 5 is:\", multiply(10, 5))\n",
    "    print(\"Division of 10 by 5 is:\", divide(10, 5))\n"
   ]
  },
  {
   "cell_type": "markdown",
   "id": "6c577c13-ee17-4d00-872a-8db21399be26",
   "metadata": {},
   "source": [
    "## 14. Implement a Python module named string_utils.py containing functions for string manipulation, such as\n",
    "reversing and capitalizing strings."
   ]
  },
  {
   "cell_type": "code",
   "execution_count": 9,
   "id": "c58fff29-0354-408b-8df5-e4c7dd70709a",
   "metadata": {},
   "outputs": [
    {
     "name": "stdout",
     "output_type": "stream",
     "text": [
      "Original string: hello world\n",
      "Reversed string: dlrow olleh\n",
      "Capitalized string: Hello world\n"
     ]
    }
   ],
   "source": [
    "# string_utils.py\n",
    "\n",
    "def reverse_string(s):\n",
    "    \"\"\"Return the reverse of the input string.\"\"\"\n",
    "    return s[::-1]\n",
    "\n",
    "def capitalize_string(s):\n",
    "    \"\"\"Return the string with the first character capitalized and the rest lowercased.\"\"\"\n",
    "    return s.capitalize()\n",
    "\n",
    "# Example usage (This part can be removed if you want to keep the module clean)\n",
    "if __name__ == \"__main__\":\n",
    "    sample_string = \"hello world\"\n",
    "    print(\"Original string:\", sample_string)\n",
    "    print(\"Reversed string:\", reverse_string(sample_string))\n",
    "    print(\"Capitalized string:\", capitalize_string(sample_string))\n"
   ]
  },
  {
   "cell_type": "markdown",
   "id": "3fb7d29c-5753-429b-bdf3-4049cf594c08",
   "metadata": {},
   "source": [
    "## 16. Write a Python program to create a text file named \"employees.txt\" and write the details of employees,including their name, age, and salary, into the file."
   ]
  },
  {
   "cell_type": "code",
   "execution_count": 10,
   "id": "eea7f79a-acf5-4c1f-8cb8-68de175e3f10",
   "metadata": {},
   "outputs": [
    {
     "name": "stdout",
     "output_type": "stream",
     "text": [
      "Employee details have been written to employees.txt.\n"
     ]
    }
   ],
   "source": [
    "# Define a list of employees with their details\n",
    "employees = [\n",
    "    {\"name\": \"Alice\", \"age\": 30, \"salary\": 70000},\n",
    "    {\"name\": \"Bob\", \"age\": 25, \"salary\": 50000},\n",
    "    {\"name\": \"Charlie\", \"age\": 35, \"salary\": 80000}\n",
    "]\n",
    "\n",
    "# Open the file in write mode\n",
    "with open(\"employees.txt\", \"w\") as file:\n",
    "    # Iterate over the list of employees\n",
    "    for employee in employees:\n",
    "        # Write each employee's details to the file\n",
    "        file.write(f\"Name: {employee['name']}, Age: {employee['age']}, Salary: ${employee['salary']}\\n\")\n",
    "\n",
    "print(\"Employee details have been written to employees.txt.\")\n"
   ]
  },
  {
   "cell_type": "markdown",
   "id": "54926b85-a331-4109-bcd7-ee2c0ee401ed",
   "metadata": {},
   "source": [
    "## Create a Python script that reads a text file named \"expenses.txt\" and calculates the total amount spenton various expenses listed in the file."
   ]
  },
  {
   "cell_type": "code",
   "execution_count": 11,
   "id": "bd2b477d-6302-4024-b5fd-78aa914409ff",
   "metadata": {},
   "outputs": [
    {
     "name": "stdout",
     "output_type": "stream",
     "text": [
      "The file 'expenses.txt' does not exist.\n",
      "Total amount spent: $0.00\n"
     ]
    }
   ],
   "source": [
    "# Initialize a variable to store the total amount spent\n",
    "total_amount = 0.0\n",
    "\n",
    "# Open the file in read mode\n",
    "try:\n",
    "    with open(\"expenses.txt\", \"r\") as file:\n",
    "        # Iterate over each line in the file\n",
    "        for line in file:\n",
    "            # Split the line into expense name and amount\n",
    "            parts = line.split()\n",
    "            if len(parts) == 2:\n",
    "                try:\n",
    "                    # Convert the amount to a float and add to the total\n",
    "                    amount = float(parts[1])\n",
    "                    total_amount += amount\n",
    "                except ValueError:\n",
    "                    print(f\"Invalid amount found: {parts[1]}\")\n",
    "            else:\n",
    "                print(f\"Invalid line format: {line.strip()}\")\n",
    "except FileNotFoundError:\n",
    "    print(\"The file 'expenses.txt' does not exist.\")\n",
    "\n",
    "# Print the total amount spent\n",
    "print(f\"Total amount spent: ${total_amount:.2f}\")\n"
   ]
  },
  {
   "cell_type": "code",
   "execution_count": null,
   "id": "c2aac888-3300-4f7a-8d1c-c47cabad421d",
   "metadata": {},
   "outputs": [],
   "source": []
  }
 ],
 "metadata": {
  "kernelspec": {
   "display_name": "Python 3 (ipykernel)",
   "language": "python",
   "name": "python3"
  },
  "language_info": {
   "codemirror_mode": {
    "name": "ipython",
    "version": 3
   },
   "file_extension": ".py",
   "mimetype": "text/x-python",
   "name": "python",
   "nbconvert_exporter": "python",
   "pygments_lexer": "ipython3",
   "version": "3.10.8"
  }
 },
 "nbformat": 4,
 "nbformat_minor": 5
}
