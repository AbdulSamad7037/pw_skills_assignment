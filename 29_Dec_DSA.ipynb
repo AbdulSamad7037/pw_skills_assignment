{
 "cells": [
  {
   "cell_type": "markdown",
   "id": "d6a86bb8-d5fc-4811-bd03-c7d24cc09a55",
   "metadata": {},
   "source": [
    "## Problem 1: Reverse a singly linked list."
   ]
  },
  {
   "cell_type": "code",
   "execution_count": 5,
   "id": "8201cb13-b690-4550-a1f8-2ec68efa4457",
   "metadata": {},
   "outputs": [
    {
     "name": "stdout",
     "output_type": "stream",
     "text": [
      "Original list:\n",
      "1 -> 2 -> 3 -> 4 -> 5\n",
      "Reversed list:\n",
      "5 -> 4 -> 3 -> 2 -> 1\n"
     ]
    }
   ],
   "source": [
    "def print_list(head):\n",
    "    current = head\n",
    "    while current is not None:\n",
    "        print(current.value, end=\" -> \" if current.next else \"\\n\")\n",
    "        current = current.next\n",
    "\n",
    "# Create the linked list 1 -> 2 -> 3 -> 4 -> 5\n",
    "head = ListNode(1)\n",
    "head.next = ListNode(2)\n",
    "head.next.next = ListNode(3)\n",
    "head.next.next.next = ListNode(4)\n",
    "head.next.next.next.next = ListNode(5)\n",
    "\n",
    "print(\"Original list:\")\n",
    "print_list(head)\n",
    "\n",
    "# Reverse the linked list\n",
    "reversed_head = reverse_linked_list(head)\n",
    "\n",
    "print(\"Reversed list:\")\n",
    "print_list(reversed_head)\n",
    "\n"
   ]
  },
  {
   "cell_type": "markdown",
   "id": "be7512b5-6dcf-4548-ad6f-b71a99fc1005",
   "metadata": {},
   "source": [
    "Explanation\n",
    "Create Nodes: Create nodes and link them to form the list 1 -> 2 -> 3 -> 4 -> 5.\n",
    "Reverse Function: The reverse_linked_list function traverses the list, reverses the links, and returns the new head.\n",
    "Print Function: The print_list function traverses and prints the list."
   ]
  },
  {
   "cell_type": "markdown",
   "id": "45691722-1ea8-4853-a098-624c537d4b98",
   "metadata": {},
   "source": [
    "## Problem 2: Merge two sorted linked lists into one sorted linked list."
   ]
  },
  {
   "cell_type": "code",
   "execution_count": 6,
   "id": "b2ff0830-ce87-4b8f-b623-d1f5b2dd1301",
   "metadata": {},
   "outputs": [],
   "source": [
    "class ListNode:\n",
    "    def __init__(self, value=0, next=None):\n",
    "        self.value = value\n",
    "        self.next = next\n",
    "def merge_two_sorted_lists(l1, l2):\n",
    "    dummy = ListNode()  # Dummy node to simplify merging\n",
    "    current = dummy\n",
    "    \n",
    "    while l1 is not None and l2 is not None:\n",
    "        if l1.value < l2.value:\n",
    "            current.next = l1\n",
    "            l1 = l1.next\n",
    "        else:\n",
    "            current.next = l2\n",
    "            l2 = l2.next\n",
    "        current = current.next\n",
    "    \n",
    "    # Append remaining nodes\n",
    "    if l1 is not None:\n",
    "        current.next = l1\n",
    "    elif l2 is not None:\n",
    "        current.next = l2\n",
    "    \n",
    "    return dummy.next\n",
    "def reverse_linked_list(head):\n",
    "    prev = None\n",
    "    current = head\n",
    "    \n",
    "    while current is not None:\n",
    "        next_node = current.next\n",
    "        current.next = prev\n",
    "        prev = current\n",
    "        current = next_node\n",
    "    \n",
    "    return prev\n",
    "def print_list(head):\n",
    "    current = head\n",
    "    while current is not None:\n",
    "        print(current.value, end=\" -> \" if current.next else \"\\n\")\n",
    "        current = current.next\n"
   ]
  },
  {
   "cell_type": "code",
   "execution_count": 7,
   "id": "95a1c9a3-0ed9-416f-a514-382732141f77",
   "metadata": {},
   "outputs": [
    {
     "name": "stdout",
     "output_type": "stream",
     "text": [
      "List 1:\n",
      "1 -> 3 -> 5\n",
      "List 2:\n",
      "2 -> 4 -> 6\n",
      "Merged list:\n",
      "1 -> 2 -> 3 -> 4 -> 5 -> 6\n",
      "Reversed merged list:\n",
      "6 -> 5 -> 4 -> 3 -> 2 -> 1\n"
     ]
    }
   ],
   "source": [
    "# Create List 1: 1 -> 3 -> 5\n",
    "list1 = ListNode(1)\n",
    "list1.next = ListNode(3)\n",
    "list1.next.next = ListNode(5)\n",
    "\n",
    "# Create List 2: 2 -> 4 -> 6\n",
    "list2 = ListNode(2)\n",
    "list2.next = ListNode(4)\n",
    "list2.next.next = ListNode(6)\n",
    "\n",
    "print(\"List 1:\")\n",
    "print_list(list1)\n",
    "\n",
    "print(\"List 2:\")\n",
    "print_list(list2)\n",
    "\n",
    "# Merge the two lists\n",
    "merged_list = merge_two_sorted_lists(list1, list2)\n",
    "\n",
    "print(\"Merged list:\")\n",
    "print_list(merged_list)\n",
    "\n",
    "# Reverse the merged list\n",
    "reversed_merged_list = reverse_linked_list(merged_list)\n",
    "\n",
    "print(\"Reversed merged list:\")\n",
    "print_list(reversed_merged_list)\n"
   ]
  },
  {
   "cell_type": "markdown",
   "id": "9bf20e0f-4f16-4217-8142-64bb64453fd6",
   "metadata": {},
   "source": [
    "## Problem 3: Remove the nth node from the end of a linked list."
   ]
  },
  {
   "cell_type": "code",
   "execution_count": 8,
   "id": "b2e3f4b3-15b2-45ea-a9e9-dafdfb7eaca4",
   "metadata": {},
   "outputs": [
    {
     "name": "stdout",
     "output_type": "stream",
     "text": [
      "Original list:\n",
      "1 -> 2 -> 3 -> 4 -> 5\n",
      "Updated list after removing the 2nd node from the end:\n",
      "1 -> 2 -> 3 -> 5\n"
     ]
    }
   ],
   "source": [
    "class ListNode:\n",
    "    def __init__(self, value=0, next=None):\n",
    "        self.value = value\n",
    "        self.next = next\n",
    "\n",
    "def remove_nth_from_end(head, n):\n",
    "    dummy = ListNode(0)  # Dummy node to handle edge cases like removing the head\n",
    "    dummy.next = head\n",
    "    first = dummy\n",
    "    second = dummy\n",
    "    \n",
    "    # Move first pointer n+1 steps ahead\n",
    "    for _ in range(n + 1):\n",
    "        first = first.next\n",
    "    \n",
    "    # Move both pointers until first reaches the end\n",
    "    while first is not None:\n",
    "        first = first.next\n",
    "        second = second.next\n",
    "    \n",
    "    # Remove the nth node from the end\n",
    "    second.next = second.next.next\n",
    "    \n",
    "    return dummy.next\n",
    "\n",
    "def print_list(head):\n",
    "    current = head\n",
    "    while current is not None:\n",
    "        print(current.value, end=\" -> \" if current.next else \"\\n\")\n",
    "        current = current.next\n",
    "\n",
    "# Example Usage\n",
    "# Create the linked list 1 -> 2 -> 3 -> 4 -> 5\n",
    "head = ListNode(1)\n",
    "head.next = ListNode(2)\n",
    "head.next.next = ListNode(3)\n",
    "head.next.next.next = ListNode(4)\n",
    "head.next.next.next.next = ListNode(5)\n",
    "\n",
    "print(\"Original list:\")\n",
    "print_list(head)\n",
    "\n",
    "# Remove the 2nd node from the end\n",
    "n = 2\n",
    "updated_head = remove_nth_from_end(head, n)\n",
    "\n",
    "print(\"Updated list after removing the 2nd node from the end:\")\n",
    "print_list(updated_head)\n"
   ]
  },
  {
   "cell_type": "markdown",
   "id": "40ff7655-393d-4871-a2d3-56edc8024381",
   "metadata": {},
   "source": [
    "Explanation\n",
    "Dummy Node: A dummy node is used to handle edge cases, such as removing the head of the list.\n",
    "Two Pointers: first is moved \n",
    "𝑛\n",
    "+\n",
    "1\n",
    "n+1 steps ahead so that the distance between first and second is \n",
    "𝑛\n",
    "n. Both pointers are then moved together until first reaches the end. second will then point to the node just before the node to be removed.\n",
    "Removal: The second.next pointer is adjusted to skip the \n",
    "𝑛\n",
    "n-th node from the end."
   ]
  },
  {
   "cell_type": "markdown",
   "id": "1fb950ec-323e-4b11-a559-bdbb8ab4c3dd",
   "metadata": {},
   "source": [
    "## Problem 4: Find the intersection point of two linked lists."
   ]
  },
  {
   "cell_type": "code",
   "execution_count": 9,
   "id": "58f212ae-4a6b-4854-9510-6d347fd778bc",
   "metadata": {},
   "outputs": [
    {
     "name": "stdout",
     "output_type": "stream",
     "text": [
      "List 1:\n",
      "1 -> 2 -> 3 -> 4\n",
      "List 2:\n",
      "9 -> 8 -> 3 -> 4\n",
      "Intersection point: 3\n"
     ]
    }
   ],
   "source": [
    "class ListNode:\n",
    "    def __init__(self, value=0, next=None):\n",
    "        self.value = value\n",
    "        self.next = next\n",
    "\n",
    "def get_length(head):\n",
    "    length = 0\n",
    "    current = head\n",
    "    while current:\n",
    "        length += 1\n",
    "        current = current.next\n",
    "    return length\n",
    "\n",
    "def find_intersection(head1, head2):\n",
    "    # Get lengths of both lists\n",
    "    length1 = get_length(head1)\n",
    "    length2 = get_length(head2)\n",
    "    \n",
    "    # Align the start of both lists\n",
    "    while length1 > length2:\n",
    "        head1 = head1.next\n",
    "        length1 -= 1\n",
    "    \n",
    "    while length2 > length1:\n",
    "        head2 = head2.next\n",
    "        length2 -= 1\n",
    "    \n",
    "    # Find the intersection\n",
    "    while head1 and head2:\n",
    "        if head1 == head2:\n",
    "            return head1\n",
    "        head1 = head1.next\n",
    "        head2 = head2.next\n",
    "    \n",
    "    return None\n",
    "\n",
    "def print_list(head):\n",
    "    current = head\n",
    "    while current:\n",
    "        print(current.value, end=\" -> \" if current.next else \"\\n\")\n",
    "        current = current.next\n",
    "\n",
    "# Example Usage\n",
    "\n",
    "# Create List 1: 1 -> 2 -> 3 -> 4\n",
    "list1 = ListNode(1)\n",
    "list1.next = ListNode(2)\n",
    "list1.next.next = ListNode(3)\n",
    "list1.next.next.next = ListNode(4)\n",
    "\n",
    "# Create List 2: 9 -> 8 -> 3 -> 4\n",
    "list2 = ListNode(9)\n",
    "list2.next = ListNode(8)\n",
    "list2.next.next = list1.next.next  # Intersection point at node with value 3\n",
    "# List2 continues to 4 as well\n",
    "\n",
    "print(\"List 1:\")\n",
    "print_list(list1)\n",
    "\n",
    "print(\"List 2:\")\n",
    "print_list(list2)\n",
    "\n",
    "# Find intersection\n",
    "intersection = find_intersection(list1, list2)\n",
    "\n",
    "if intersection:\n",
    "    print(f\"Intersection point: {intersection.value}\")\n",
    "else:\n",
    "    print(\"No intersection\")\n"
   ]
  },
  {
   "cell_type": "markdown",
   "id": "aae18b76-a0e8-4018-80c7-fd5b7790803b",
   "metadata": {},
   "source": [
    "## Problem 5: Remove duplicates from a sorted linked list."
   ]
  },
  {
   "cell_type": "code",
   "execution_count": 10,
   "id": "90ba5dd3-bcc4-40a2-a384-5e7be52a9e9f",
   "metadata": {},
   "outputs": [
    {
     "name": "stdout",
     "output_type": "stream",
     "text": [
      "Original list:\n",
      "1 -> 1 -> 2 -> 3 -> 3\n",
      "List after removing duplicates:\n",
      "1 -> 2 -> 3\n"
     ]
    }
   ],
   "source": [
    "class ListNode:\n",
    "    def __init__(self, value=0, next=None):\n",
    "        self.value = value\n",
    "        self.next = next\n",
    "\n",
    "def remove_duplicates_from_sorted_list(head):\n",
    "    current = head\n",
    "    \n",
    "    while current and current.next:\n",
    "        if current.value == current.next.value:\n",
    "            # Skip the next node\n",
    "            current.next = current.next.next\n",
    "        else:\n",
    "            # Move to the next node\n",
    "            current = current.next\n",
    "    \n",
    "    return head\n",
    "\n",
    "def print_list(head):\n",
    "    current = head\n",
    "    while current:\n",
    "        print(current.value, end=\" -> \" if current.next else \"\\n\")\n",
    "        current = current.next\n",
    "\n",
    "# Example Usage\n",
    "\n",
    "# Create the sorted linked list 1 -> 1 -> 2 -> 3 -> 3\n",
    "head = ListNode(1)\n",
    "head.next = ListNode(1)\n",
    "head.next.next = ListNode(2)\n",
    "head.next.next.next = ListNode(3)\n",
    "head.next.next.next.next = ListNode(3)\n",
    "\n",
    "print(\"Original list:\")\n",
    "print_list(head)\n",
    "\n",
    "# Remove duplicates\n",
    "updated_head = remove_duplicates_from_sorted_list(head)\n",
    "\n",
    "print(\"List after removing duplicates:\")\n",
    "print_list(updated_head)\n"
   ]
  },
  {
   "cell_type": "markdown",
   "id": "91e89cd2-5584-4ada-b7a2-9dd05c352c9c",
   "metadata": {},
   "source": [
    "## Problem 7: Swap nodes in pairs in a linked list."
   ]
  },
  {
   "cell_type": "code",
   "execution_count": 11,
   "id": "33e706d8-49ad-4bcf-bf7c-697fa5098bd8",
   "metadata": {},
   "outputs": [
    {
     "name": "stdout",
     "output_type": "stream",
     "text": [
      "Original list:\n",
      "1 -> 2 -> 3 -> 4\n",
      "List after swapping pairs:\n",
      "2 -> 1 -> 4 -> 3\n"
     ]
    }
   ],
   "source": [
    "class ListNode:\n",
    "    def __init__(self, value=0, next=None):\n",
    "        self.value = value\n",
    "        self.next = next\n",
    "\n",
    "def swap_pairs(head):\n",
    "    dummy = ListNode(0)\n",
    "    dummy.next = head\n",
    "    prev = dummy\n",
    "    \n",
    "    while head and head.next:\n",
    "        # Nodes to be swapped\n",
    "        first = head\n",
    "        second = head.next\n",
    "        \n",
    "        # Swapping\n",
    "        prev.next = second\n",
    "        first.next = second.next\n",
    "        second.next = first\n",
    "        \n",
    "        # Move to the next pair\n",
    "        prev = first\n",
    "        head = first.next\n",
    "    \n",
    "    return dummy.next\n",
    "\n",
    "def print_list(head):\n",
    "    current = head\n",
    "    while current:\n",
    "        print(current.value, end=\" -> \" if current.next else \"\\n\")\n",
    "        current = current.next\n",
    "\n",
    "# Example Usage\n",
    "\n",
    "# Create the linked list 1 -> 2 -> 3 -> 4\n",
    "head = ListNode(1)\n",
    "head.next = ListNode(2)\n",
    "head.next.next = ListNode(3)\n",
    "head.next.next.next = ListNode(4)\n",
    "\n",
    "print(\"Original list:\")\n",
    "print_list(head)\n",
    "\n",
    "# Swap nodes in pairs\n",
    "swapped_head = swap_pairs(head)\n",
    "\n",
    "print(\"List after swapping pairs:\")\n",
    "print_list(swapped_head)\n"
   ]
  },
  {
   "cell_type": "markdown",
   "id": "59886c7d-40b0-4ce6-8da1-f79db5c07ae0",
   "metadata": {},
   "source": [
    "## Problem 8: Reverse nodes in a linked list in groups of k."
   ]
  },
  {
   "cell_type": "code",
   "execution_count": 13,
   "id": "c9a34b12-1533-4a21-8deb-bf536adb423c",
   "metadata": {},
   "outputs": [
    {
     "name": "stdout",
     "output_type": "stream",
     "text": [
      "Original list:\n",
      "1 -> 2 -> 3 -> 4 -> 5\n",
      "List after reversing in groups of k:\n",
      "3 -> 2 -> 1 -> 4 -> 5\n"
     ]
    }
   ],
   "source": [
    "class ListNode:\n",
    "    def __init__(self, value=0, next=None):\n",
    "        self.value = value\n",
    "        self.next = next\n",
    "\n",
    "def reverse_in_groups(head, k):\n",
    "    # Function to reverse a segment of the list\n",
    "    def reverse_segment(start, k):\n",
    "        prev = None\n",
    "        current = start\n",
    "        while k > 0:\n",
    "            next_node = current.next\n",
    "            current.next = prev\n",
    "            prev = current\n",
    "            current = next_node\n",
    "            k -= 1\n",
    "        return prev  # New head of the reversed segment\n",
    "    \n",
    "    # Function to get the k-th node\n",
    "    def get_kth_node(start, k):\n",
    "        while k > 1 and start:\n",
    "            start = start.next\n",
    "            k -= 1\n",
    "        return start\n",
    "    \n",
    "    dummy = ListNode(0)\n",
    "    dummy.next = head\n",
    "    prev_group_end = dummy\n",
    "    \n",
    "    while True:\n",
    "        # Find the k-th node\n",
    "        group_start = prev_group_end.next\n",
    "        kth_node = get_kth_node(group_start, k)\n",
    "        \n",
    "        if not kth_node:\n",
    "            break\n",
    "        \n",
    "        # Mark the node after the k-th node\n",
    "        next_group_start = kth_node.next\n",
    "        \n",
    "        # Reverse the current group\n",
    "        new_group_start = reverse_segment(group_start, k)\n",
    "        \n",
    "        # Connect the previous part with the newly reversed part\n",
    "        prev_group_end.next = new_group_start\n",
    "        group_start.next = next_group_start\n",
    "        \n",
    "        # Move prev_group_end to the end of the reversed segment\n",
    "        prev_group_end = group_start\n",
    "    \n",
    "    return dummy.next\n",
    "\n",
    "def print_list(head):\n",
    "    current = head\n",
    "    while current:\n",
    "        print(current.value, end=\" -> \" if current.next else \"\\n\")\n",
    "        current = current.next\n",
    "\n",
    "# Example Usage\n",
    "\n",
    "# Create the linked list 1 -> 2 -> 3 -> 4 -> 5\n",
    "head = ListNode(1)\n",
    "head.next = ListNode(2)\n",
    "head.next.next = ListNode(3)\n",
    "head.next.next.next = ListNode(4)\n",
    "head.next.next.next.next = ListNode(5)\n",
    "\n",
    "print(\"Original list:\")\n",
    "print_list(head)\n",
    "\n",
    "# Reverse nodes in groups of k\n",
    "k = 3\n",
    "reversed_head = reverse_in_groups(head, k)\n",
    "\n",
    "print(\"List after reversing in groups of k:\")\n",
    "print_list(reversed_head)\n",
    "\n"
   ]
  },
  {
   "cell_type": "markdown",
   "id": "da0e74e2-7f94-47b4-a469-701ddcaef28a",
   "metadata": {},
   "source": [
    "## Problem 9: Determine if a linked list is a palindrome."
   ]
  },
  {
   "cell_type": "code",
   "execution_count": 16,
   "id": "d9b6bde4-f589-499c-baaa-f6e2590ff1ca",
   "metadata": {},
   "outputs": [
    {
     "name": "stdout",
     "output_type": "stream",
     "text": [
      "Original list:\n",
      "1 -> 2 -> 2 -> 1\n",
      "Is the list a palindrome?\n",
      "True\n"
     ]
    }
   ],
   "source": [
    "class ListNode:\n",
    "    def __init__(self, value=0, next=None):\n",
    "        self.value = value\n",
    "        self.next = next\n",
    "\n",
    "def is_palindrome(head):\n",
    "    def reverse_list(head):\n",
    "        prev = None\n",
    "        current = head\n",
    "        while current:\n",
    "            next_node = current.next\n",
    "            current.next = prev\n",
    "            prev = current\n",
    "            current = next_node\n",
    "        return prev\n",
    "\n",
    "    def find_middle(head):\n",
    "        slow = fast = head\n",
    "        while fast and fast.next:\n",
    "            slow = slow.next\n",
    "            fast = fast.next.next\n",
    "        return slow\n",
    "\n",
    "    # Edge case: empty list or single node\n",
    "    if not head or not head.next:\n",
    "        return True\n",
    "\n",
    "    # Find the middle of the list\n",
    "    middle = find_middle(head)\n",
    "    \n",
    "    # Reverse the second half of the list\n",
    "    second_half = reverse_list(middle)\n",
    "    \n",
    "    # Compare the first and second halves\n",
    "    first_half = head\n",
    "    while second_half:\n",
    "        if first_half.value != second_half.value:\n",
    "            return False\n",
    "        first_half = first_half.next\n",
    "        second_half = second_half.next\n",
    "\n",
    "    return True\n",
    "\n",
    "def print_list(head):\n",
    "    current = head\n",
    "    while current:\n",
    "        print(current.value, end=\" -> \" if current.next else \"\\n\")\n",
    "        current = current.next\n",
    "\n",
    "# Example Usage\n",
    "\n",
    "# Create the linked list 1 -> 2 -> 2 -> 1\n",
    "head = ListNode(1)\n",
    "head.next = ListNode(2)\n",
    "head.next.next = ListNode(2)\n",
    "head.next.next.next = ListNode(1)\n",
    "\n",
    "print(\"Original list:\")\n",
    "print_list(head)\n",
    "\n",
    "# Check if the list is a palindrome\n",
    "print(\"Is the list a palindrome?\")\n",
    "print(is_palindrome(head))\n"
   ]
  },
  {
   "cell_type": "markdown",
   "id": "1ba2bc3a-3741-4d67-938b-5b3b17bd20cb",
   "metadata": {},
   "source": [
    "## Problem 10: Rotate a linked list to the right by k places."
   ]
  },
  {
   "cell_type": "code",
   "execution_count": 18,
   "id": "1cd21973-3fe8-4f87-a993-a4ccd022fd6d",
   "metadata": {},
   "outputs": [
    {
     "name": "stdout",
     "output_type": "stream",
     "text": [
      "Original list:\n",
      "1 -> 2 -> 3 -> 4 -> 5\n",
      "List after rotating right by k:\n",
      "4 -> 5 -> 1 -> 2 -> 3\n"
     ]
    }
   ],
   "source": [
    "class ListNode:\n",
    "    def __init__(self, value=0, next=None):\n",
    "        self.value = value\n",
    "        self.next = next\n",
    "\n",
    "def rotate_right(head, k):\n",
    "    if not head or k == 0:\n",
    "        return head\n",
    "\n",
    "    # Step 1: Find the length of the list and the last node\n",
    "    length = 1\n",
    "    old_tail = head\n",
    "    while old_tail.next:\n",
    "        old_tail = old_tail.next\n",
    "        length += 1\n",
    "    \n",
    "    # Step 2: Normalize k\n",
    "    k = k % length\n",
    "    if k == 0:\n",
    "        return head\n",
    "\n",
    "    # Step 3: Find the new tail, which is (length - k - 1) from the start\n",
    "    new_tail = head\n",
    "    for _ in range(length - k - 1):\n",
    "        new_tail = new_tail.next\n",
    "    \n",
    "    new_head = new_tail.next\n",
    "\n",
    "    # Step 4: Rearrange the pointers\n",
    "    old_tail.next = head\n",
    "    new_tail.next = None\n",
    "    \n",
    "    return new_head\n",
    "\n",
    "def print_list(head):\n",
    "    current = head\n",
    "    while current:\n",
    "        print(current.value, end=\" -> \" if current.next else \"\\n\")\n",
    "        current = current.next\n",
    "\n",
    "# Example Usage\n",
    "\n",
    "# Create the linked list 1 -> 2 -> 3 -> 4 -> 5\n",
    "head = ListNode(1)\n",
    "head.next = ListNode(2)\n",
    "head.next.next = ListNode(3)\n",
    "head.next.next.next = ListNode(4)\n",
    "head.next.next.next.next = ListNode(5)\n",
    "\n",
    "print(\"Original list:\")\n",
    "print_list(head)\n",
    "\n",
    "# Rotate the list to the right by k places\n",
    "k = 2\n",
    "rotated_head = rotate_right(head, k)\n",
    "\n",
    "print(\"List after rotating right by k:\")\n",
    "print_list(rotated_head)\n"
   ]
  },
  {
   "cell_type": "markdown",
   "id": "a1cec9d1-0ea6-4777-8afe-3313addf0f0f",
   "metadata": {},
   "source": [
    "## Problem 11: Flatten a multilevel doubly linked list."
   ]
  },
  {
   "cell_type": "code",
   "execution_count": 19,
   "id": "47ffb397-d3b6-4bf4-9339-7631168cd391",
   "metadata": {},
   "outputs": [
    {
     "name": "stdout",
     "output_type": "stream",
     "text": [
      "Original multilevel doubly linked list:\n",
      "1 -> 2 -> 3 -> 7 (child) -> 8 -> 11 -> 12 \n",
      "Flattened doubly linked list:\n",
      "1 -> 2 -> 3 -> 7 (child) -> 4 -> 5 -> 9 -> 10 -> 8 -> 11 -> 12 \n"
     ]
    }
   ],
   "source": [
    "class Node:\n",
    "    def __init__(self, value=0, next=None, prev=None, child=None):\n",
    "        self.value = value\n",
    "        self.next = next\n",
    "        self.prev = prev\n",
    "        self.child = child\n",
    "\n",
    "def flatten_list(head):\n",
    "    def flatten_child(node):\n",
    "        current = node\n",
    "        while current:\n",
    "            if current.child:\n",
    "                # Flatten the child list\n",
    "                child_head = flatten_list(current.child)\n",
    "                \n",
    "                # Connect the current node with the child list\n",
    "                next_node = current.next\n",
    "                current.next = child_head\n",
    "                child_head.prev = current\n",
    "                \n",
    "                # Connect the end of the child list with the next node\n",
    "                while current.next:\n",
    "                    current = current.next\n",
    "                current.next = next_node\n",
    "                if next_node:\n",
    "                    next_node.prev = current\n",
    "                # The child pointer should be set to None\n",
    "                current.child = None\n",
    "                \n",
    "            current = current.next\n",
    "        \n",
    "        return node\n",
    "    \n",
    "    # Edge case: empty list\n",
    "    if not head:\n",
    "        return None\n",
    "    \n",
    "    # Start flattening from the head\n",
    "    return flatten_child(head)\n",
    "\n",
    "def print_doubly_linked_list(head):\n",
    "    current = head\n",
    "    while current:\n",
    "        print(f\"{current.value}\", end=\" \")\n",
    "        if current.child:\n",
    "            print(\"(child)\", end=\" \")\n",
    "        if current.next:\n",
    "            print(\"->\", end=\" \")\n",
    "        current = current.next\n",
    "    print()\n",
    "\n",
    "# Example Usage\n",
    "\n",
    "# Create the multilevel doubly linked list\n",
    "# Level 1: 1 <-> 2 <-> 3 <-> 7 <-> 8 <-> 11 -> 12\n",
    "# Level 2: 4 <-> 5 -> 9 -> 10\n",
    "# Level 3: 6 -> 13\n",
    "\n",
    "head = Node(1)\n",
    "head.next = Node(2)\n",
    "head.next.prev = head\n",
    "head.next.next = Node(3)\n",
    "head.next.next.prev = head.next\n",
    "head.next.next.next = Node(7)\n",
    "head.next.next.next.prev = head.next.next\n",
    "head.next.next.next.next = Node(8)\n",
    "head.next.next.next.next.prev = head.next.next.next\n",
    "head.next.next.next.next.next = Node(11)\n",
    "head.next.next.next.next.next.prev = head.next.next.next.next\n",
    "head.next.next.next.next.next.next = Node(12)\n",
    "head.next.next.next.next.next.next.prev = head.next.next.next.next.next\n",
    "\n",
    "# Level 2 list\n",
    "node4 = Node(4)\n",
    "node4.next = Node(5)\n",
    "node4.next.prev = node4\n",
    "node4.next.next = Node(9)\n",
    "node4.next.next.prev = node4.next\n",
    "node4.next.next.next = Node(10)\n",
    "node4.next.next.next.prev = node4.next.next\n",
    "\n",
    "# Level 3 list\n",
    "node6 = Node(6)\n",
    "node6.next = Node(13)\n",
    "node6.next.prev = node6\n",
    "\n",
    "# Attach level 2 to node 7 and level 3 to node 6\n",
    "head.next.next.next.child = node4\n",
    "node6.child = None  # Level 3 is not a child of node 6; it's standalone\n",
    "\n",
    "print(\"Original multilevel doubly linked list:\")\n",
    "print_doubly_linked_list(head)\n",
    "\n",
    "# Flatten the list\n",
    "flattened_head = flatten_list(head)\n",
    "\n",
    "print(\"Flattened doubly linked list:\")\n",
    "print_doubly_linked_list(flattened_head)\n"
   ]
  },
  {
   "cell_type": "markdown",
   "id": "5890c048-b2be-4987-93b6-98db095dbc31",
   "metadata": {},
   "source": [
    "## Problem 13: Given a non-negative number represented as a linked list, add one to it."
   ]
  },
  {
   "cell_type": "code",
   "execution_count": 20,
   "id": "1d4a40d4-8182-45a8-9742-c0d812fb5637",
   "metadata": {},
   "outputs": [
    {
     "name": "stdout",
     "output_type": "stream",
     "text": [
      "Original list:\n",
      "1 -> 2 -> 3\n",
      "List after adding one:\n",
      "1 -> 2 -> 4\n"
     ]
    }
   ],
   "source": [
    "class ListNode:\n",
    "    def __init__(self, value=0, next=None):\n",
    "        self.value = value\n",
    "        self.next = next\n",
    "\n",
    "def reverse_list(head):\n",
    "    prev = None\n",
    "    current = head\n",
    "    while current:\n",
    "        next_node = current.next\n",
    "        current.next = prev\n",
    "        prev = current\n",
    "        current = next_node\n",
    "    return prev\n",
    "\n",
    "def add_one(head):\n",
    "    # Reverse the list to facilitate addition from least significant digit\n",
    "    head = reverse_list(head)\n",
    "    \n",
    "    current = head\n",
    "    carry = 1  # Initialize carry as 1 for the addition\n",
    "    \n",
    "    # Traverse the list and add carry to each node\n",
    "    while current:\n",
    "        sum_value = current.value + carry\n",
    "        carry = sum_value // 10  # Update carry for the next digit\n",
    "        current.value = sum_value % 10  # Update current node value\n",
    "        if not carry:  # If no carry, we can break early\n",
    "            break\n",
    "        if not current.next and carry:\n",
    "            current.next = ListNode(0)  # Add new node if carry remains\n",
    "        current = current.next\n",
    "    \n",
    "    # Reverse the list back to restore the original order\n",
    "    return reverse_list(head)\n",
    "\n",
    "def print_list(head):\n",
    "    current = head\n",
    "    while current:\n",
    "        print(current.value, end=\" -> \" if current.next else \"\\n\")\n",
    "        current = current.next\n",
    "\n",
    "# Example Usage\n",
    "\n",
    "# Create the linked list 1 -> 2 -> 3 (represents 123)\n",
    "head = ListNode(1)\n",
    "head.next = ListNode(2)\n",
    "head.next.next = ListNode(3)\n",
    "\n",
    "print(\"Original list:\")\n",
    "print_list(head)\n",
    "\n",
    "# Add one to the number represented by the linked list\n",
    "new_head = add_one(head)\n",
    "\n",
    "print(\"List after adding one:\")\n",
    "print_list(new_head)\n"
   ]
  },
  {
   "cell_type": "markdown",
   "id": "3966c98f-af9e-49f0-aa82-3ff7a38bb6c2",
   "metadata": {},
   "source": [
    "## Problem 15: Find the minimum element in a rotated sorted array."
   ]
  },
  {
   "cell_type": "code",
   "execution_count": 21,
   "id": "7b2ac115-ac24-48e0-be00-0b09837be2ca",
   "metadata": {},
   "outputs": [
    {
     "name": "stdout",
     "output_type": "stream",
     "text": [
      "The minimum element in the rotated sorted array is: 0\n"
     ]
    }
   ],
   "source": [
    "def find_min_in_rotated_array(arr):\n",
    "    left, right = 0, len(arr) - 1\n",
    "    \n",
    "    while left < right:\n",
    "        mid = (left + right) // 2\n",
    "        \n",
    "        # Check if mid element is the minimum\n",
    "        if arr[mid] > arr[right]:\n",
    "            # Minimum must be in the right half\n",
    "            left = mid + 1\n",
    "        else:\n",
    "            # Minimum must be in the left half or at mid\n",
    "            right = mid\n",
    "    \n",
    "    return arr[left]\n",
    "\n",
    "# Example Usage\n",
    "\n",
    "# Input array\n",
    "arr = [4, 5, 6, 7, 0, 1, 2]\n",
    "min_element = find_min_in_rotated_array(arr)\n",
    "\n",
    "print(\"The minimum element in the rotated sorted array is:\", min_element)\n"
   ]
  },
  {
   "cell_type": "markdown",
   "id": "4cc23edf-404d-42f0-af5d-5eef2c31566a",
   "metadata": {},
   "source": [
    "## Problem 16: Search for a target value in a rotated sorted array."
   ]
  },
  {
   "cell_type": "code",
   "execution_count": 22,
   "id": "e2862a48-85e5-4720-8429-ec4267a61f44",
   "metadata": {},
   "outputs": [
    {
     "name": "stdout",
     "output_type": "stream",
     "text": [
      "Index of the target value is: 4\n"
     ]
    }
   ],
   "source": [
    "def search_in_rotated_array(nums, target):\n",
    "    left, right = 0, len(nums) - 1\n",
    "    \n",
    "    while left <= right:\n",
    "        mid = (left + right) // 2\n",
    "        \n",
    "        # Check if the mid element is the target\n",
    "        if nums[mid] == target:\n",
    "            return mid\n",
    "        \n",
    "        # Determine which side is sorted\n",
    "        if nums[left] <= nums[mid]:\n",
    "            # Left side is sorted\n",
    "            if nums[left] <= target < nums[mid]:\n",
    "                # Target is in the left sorted part\n",
    "                right = mid - 1\n",
    "            else:\n",
    "                # Target is in the right unsorted part\n",
    "                left = mid + 1\n",
    "        else:\n",
    "            # Right side is sorted\n",
    "            if nums[mid] < target <= nums[right]:\n",
    "                # Target is in the right sorted part\n",
    "                left = mid + 1\n",
    "            else:\n",
    "                # Target is in the left unsorted part\n",
    "                right = mid - 1\n",
    "    \n",
    "    return -1  # Target not found\n",
    "\n",
    "# Example Usage\n",
    "\n",
    "# Input array and target value\n",
    "nums = [4, 5, 6, 7, 0, 1, 2]\n",
    "target = 0\n",
    "index = search_in_rotated_array(nums, target)\n",
    "\n",
    "print(\"Index of the target value is:\", index)\n"
   ]
  },
  {
   "cell_type": "markdown",
   "id": "cd135008-baf1-4ae5-8407-95aaeea98904",
   "metadata": {},
   "source": [
    "## Problem 17: Find the peak element in an array. A peak element is greater than its neighbors."
   ]
  },
  {
   "cell_type": "code",
   "execution_count": 23,
   "id": "98063cbe-7a91-44d3-af68-a0edb8332a33",
   "metadata": {},
   "outputs": [
    {
     "name": "stdout",
     "output_type": "stream",
     "text": [
      "Index of a peak element is: 2\n",
      "Peak element is: 3\n"
     ]
    }
   ],
   "source": [
    "def find_peak_element(nums):\n",
    "    left, right = 0, len(nums) - 1\n",
    "    \n",
    "    while left <= right:\n",
    "        mid = (left + right) // 2\n",
    "        \n",
    "        # Check if the mid element is a peak\n",
    "        if (mid == 0 or nums[mid] > nums[mid - 1]) and (mid == len(nums) - 1 or nums[mid] > nums[mid + 1]):\n",
    "            return mid\n",
    "        \n",
    "        # Move to the side where the peak element is likely to be\n",
    "        if mid > 0 and nums[mid] < nums[mid - 1]:\n",
    "            right = mid - 1\n",
    "        else:\n",
    "            left = mid + 1\n",
    "    \n",
    "    return -1  # Should not reach here if input is valid\n",
    "\n",
    "# Example Usage\n",
    "\n",
    "# Input array\n",
    "nums = [1, 2, 3, 1]\n",
    "peak_index = find_peak_element(nums)\n",
    "\n",
    "print(\"Index of a peak element is:\", peak_index)\n",
    "print(\"Peak element is:\", nums[peak_index])\n"
   ]
  },
  {
   "cell_type": "markdown",
   "id": "1bcacf98-21ba-40d3-9f4d-56332d16e22d",
   "metadata": {},
   "source": [
    "## Problem 20: Find Median in Two Sorted Arrays\n",
    "Problem: Given two sorted arrays, find the median of the combined sorted array."
   ]
  },
  {
   "cell_type": "code",
   "execution_count": 24,
   "id": "4c796f04-3f25-4042-9272-5fed9d220114",
   "metadata": {},
   "outputs": [
    {
     "name": "stdout",
     "output_type": "stream",
     "text": [
      "Median of the two sorted arrays is: 2\n"
     ]
    }
   ],
   "source": [
    "def find_median_sorted_arrays(nums1, nums2):\n",
    "    # Ensure nums1 is the smaller array\n",
    "    if len(nums1) > len(nums2):\n",
    "        nums1, nums2 = nums2, nums1\n",
    "    \n",
    "    x, y = len(nums1), len(nums2)\n",
    "    low, high = 0, x\n",
    "    \n",
    "    while low <= high:\n",
    "        partitionX = (low + high) // 2\n",
    "        partitionY = (x + y + 1) // 2 - partitionX\n",
    "        \n",
    "        maxX = float('-inf') if partitionX == 0 else nums1[partitionX - 1]\n",
    "        minX = float('inf') if partitionX == x else nums1[partitionX]\n",
    "        \n",
    "        maxY = float('-inf') if partitionY == 0 else nums2[partitionY - 1]\n",
    "        minY = float('inf') if partitionY == y else nums2[partitionY]\n",
    "        \n",
    "        if maxX <= minY and maxY <= minX:\n",
    "            if (x + y) % 2 == 0:\n",
    "                return (max(maxX, maxY) + min(minX, minY)) / 2\n",
    "            else:\n",
    "                return max(maxX, maxY)\n",
    "        elif maxX > minY:\n",
    "            high = partitionX - 1\n",
    "        else:\n",
    "            low = partitionX + 1\n",
    "    \n",
    "    raise ValueError(\"Input arrays are not sorted properly\")\n",
    "\n",
    "# Example Usage\n",
    "\n",
    "# Input arrays\n",
    "nums1 = [1, 3]\n",
    "nums2 = [2]\n",
    "median = find_median_sorted_arrays(nums1, nums2)\n",
    "\n",
    "print(\"Median of the two sorted arrays is:\", median)\n"
   ]
  },
  {
   "cell_type": "markdown",
   "id": "7a40d4c2-196c-44ac-80d7-bdd3aaba4da0",
   "metadata": {},
   "source": [
    "## Problem 21: Given a sorted character array and a target letter, find the smallest letter in the array that is\n",
    " ## greater than the target."
   ]
  },
  {
   "cell_type": "code",
   "execution_count": 25,
   "id": "bfe07b58-27d0-47ca-aaa2-a56ca51fb4a5",
   "metadata": {},
   "outputs": [
    {
     "name": "stdout",
     "output_type": "stream",
     "text": [
      "The smallest letter greater than the target is: c\n"
     ]
    }
   ],
   "source": [
    "def find_next_letter(letters, target):\n",
    "    left, right = 0, len(letters) - 1\n",
    "    \n",
    "    while left <= right:\n",
    "        mid = (left + right) // 2\n",
    "        if letters[mid] <= target:\n",
    "            left = mid + 1\n",
    "        else:\n",
    "            right = mid - 1\n",
    "    \n",
    "    # Wrap around using modulo to handle cases where left is out of bounds\n",
    "    return letters[left % len(letters)]\n",
    "\n",
    "# Example Usage\n",
    "\n",
    "# Input data\n",
    "letters = ['c', 'f', 'j']\n",
    "target = 'a'\n",
    "next_letter = find_next_letter(letters, target)\n",
    "\n",
    "print(\"The smallest letter greater than the target is:\", next_letter)\n"
   ]
  },
  {
   "cell_type": "markdown",
   "id": "12bfb57b-ce12-4d6b-b2d7-0ad28fd57165",
   "metadata": {},
   "source": [
    "## Problem 23: Find the kth largest element in an unsorted array."
   ]
  },
  {
   "cell_type": "code",
   "execution_count": 26,
   "id": "62d84317-c50e-4372-b72e-2960dca5bb20",
   "metadata": {},
   "outputs": [
    {
     "name": "stdout",
     "output_type": "stream",
     "text": [
      "The 2 th largest element is: 5\n"
     ]
    }
   ],
   "source": [
    "import heapq\n",
    "\n",
    "def find_kth_largest(nums, k):\n",
    "    # Min-heap of size k\n",
    "    min_heap = []\n",
    "    \n",
    "    for num in nums:\n",
    "        heapq.heappush(min_heap, num)\n",
    "        if len(min_heap) > k:\n",
    "            heapq.heappop(min_heap)\n",
    "    \n",
    "    return min_heap[0]\n",
    "\n",
    "# Example Usage\n",
    "\n",
    "# Input array and k\n",
    "nums = [3, 2, 1, 5, 6, 4]\n",
    "k = 2\n",
    "kth_largest = find_kth_largest(nums, k)\n",
    "\n",
    "print(\"The\", k, \"th largest element is:\", kth_largest)\n"
   ]
  },
  {
   "cell_type": "markdown",
   "id": "05e2dcfc-ac34-41eb-b3ab-273fd441e56b",
   "metadata": {},
   "source": [
    "## Problem 25: Given an array of integers, calculate the sum of all its elements."
   ]
  },
  {
   "cell_type": "code",
   "execution_count": 27,
   "id": "b0308387-3752-4d22-a95d-7dab9dd56269",
   "metadata": {},
   "outputs": [
    {
     "name": "stdout",
     "output_type": "stream",
     "text": [
      "The sum of all elements is: 15\n"
     ]
    }
   ],
   "source": [
    "def sum_of_elements(arr):\n",
    "    total_sum = 0\n",
    "    for num in arr:\n",
    "        total_sum += num\n",
    "    return total_sum\n",
    "\n",
    "# Example Usage\n",
    "\n",
    "# Input array\n",
    "arr = [1, 2, 3, 4, 5]\n",
    "result = sum_of_elements(arr)\n",
    "\n",
    "print(\"The sum of all elements is:\", result)\n"
   ]
  },
  {
   "cell_type": "markdown",
   "id": "09cb96ee-935b-45ca-a4c7-ab1b12e43f18",
   "metadata": {},
   "source": [
    "## Problem 26: Find the maximum element in an array of integers."
   ]
  },
  {
   "cell_type": "code",
   "execution_count": null,
   "id": "129c4eae-efbf-4890-bed2-22ca7cc346a9",
   "metadata": {},
   "outputs": [],
   "source": []
  }
 ],
 "metadata": {
  "kernelspec": {
   "display_name": "Python 3 (ipykernel)",
   "language": "python",
   "name": "python3"
  },
  "language_info": {
   "codemirror_mode": {
    "name": "ipython",
    "version": 3
   },
   "file_extension": ".py",
   "mimetype": "text/x-python",
   "name": "python",
   "nbconvert_exporter": "python",
   "pygments_lexer": "ipython3",
   "version": "3.10.8"
  }
 },
 "nbformat": 4,
 "nbformat_minor": 5
}
