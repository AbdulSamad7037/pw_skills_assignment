{
 "cells": [
  {
   "cell_type": "markdown",
   "id": "6bb172dd-fb87-4624-8381-886f60ce75b7",
   "metadata": {},
   "source": [
    "## Problem 1.Given an array of n numbers, give an algorithm which gives the element appearing maximum  number of times?\n",
    "   "
   ]
  },
  {
   "cell_type": "markdown",
   "id": "d0692f74-584d-4a43-b928-971cf4c16114",
   "metadata": {},
   "source": [
    "Since each row has 1’s followed by 0’s, the number of 0's in a row can be found by identifying the position of the first 0 in that row.\n",
    "\n",
    "Steps:\n",
    "\n",
    "Start from the first row: For each row, we will scan from left to right to find the first occurrence of 0.\n",
    "Count the number of 0's: Once we find the first 0 in a row, the number of 0's in that row can be calculated as \n",
    "𝑛\n",
    "−\n",
    "index of the first 0\n",
    "n−index of the first 0.\n",
    "Track the row with the maximum number of 0's: Keep a variable to track the maximum number of 0's found so far and the corresponding row index.\n",
    "Optimized Approach\n",
    "Instead of scanning each row from left to right which gives \n",
    "𝑂\n",
    "(\n",
    "𝑛\n",
    "2\n",
    ")\n",
    "O(n \n",
    "2\n",
    " ) complexity, we can optimize it to \n",
    "𝑂\n",
    "(\n",
    "𝑛\n",
    ")\n",
    "O(n) by using a greedy approach:\n",
    "\n",
    "Start from the top-right corner of the matrix.\n",
    "Move left if you encounter a 0 (as this indicates more 0's in that row).\n",
    "Move down if you encounter a 1 (as this indicates that the current row has fewer 0's than the previous maximum).\n",
    "Keep track of the row index whenever you find a 0 and update if you move to a row with more 0's.\n"
   ]
  },
  {
   "cell_type": "markdown",
   "id": "c1d82568-af72-4c11-a510-5f32d3aedd67",
   "metadata": {},
   "source": [
    "Explanation\n",
    "Initial position: We start at the top-right corner of the matrix (i.e., position (0, n-1)).\n",
    "Movement:\n",
    "If the current element is 0, we move left (decrement col) because all elements to the left in the row are also 0's.\n",
    "If the current element is 1, we move down (increment row) because all elements below in the current column are also 1's.\n",
    "Result: The row where we were last able to move left (because of encountering a 0) will be the row with the maximum number of 0's."
   ]
  },
  {
   "cell_type": "markdown",
   "id": "27f78d66-b111-46ce-9813-a6e3b1cfbfba",
   "metadata": {},
   "source": [
    "## Problem 2 : We are given a list of n-1 integers and these integers are in the range of 1 to n . There are no\n",
    "duplicates in the list. One of the integers is missing in the list. Give an algorithm to find that element Ex:\n",
    "[1,2,4,6,3,7,8] 5 is the missing num."
   ]
  },
  {
   "cell_type": "markdown",
   "id": "1d90a421-06e0-49ba-8f97-c91031eb8103",
   "metadata": {},
   "source": [
    "Approach 1: Sum-Based Approach\n",
    "Concept:\n",
    "The sum of the first \n",
    "𝑛\n",
    "n natural numbers can be calculated using the formula:\n",
    "\n",
    "Sum\n",
    "=\n",
    "𝑛\n",
    "×\n",
    "(\n",
    "𝑛\n",
    "+\n",
    "1\n",
    ")\n",
    "2\n",
    "Sum= \n",
    "2\n",
    "n×(n+1)\n",
    "​\n",
    " \n",
    "If you sum up all the numbers in the list and subtract this sum from the expected sum, the difference will be the missing number.\n",
    "\n",
    "Steps:\n",
    "Calculate the expected sum of numbers from 1 to \n",
    "𝑛\n",
    "n using the formula.\n",
    "Calculate the actual sum of the elements present in the list.\n",
    "Subtract the actual sum from the expected sum to find the missing number."
   ]
  },
  {
   "cell_type": "markdown",
   "id": "9f603d4f-59c0-44eb-bae6-334b7babf6b1",
   "metadata": {},
   "source": [
    "def find_missing_number(nums, n):\n",
    "    # Step 1: Calculate the expected sum of numbers from 1 to n\n",
    "    expected_sum = n * (n + 1) // 2\n",
    "    \n",
    "    # Step 2: Calculate the actual sum of the given list\n",
    "    actual_sum = sum(nums)\n",
    "    \n",
    "    # Step 3: The difference between the expected sum and the actual sum is the missing number\n",
    "    missing_number = expected_sum - actual_sum\n",
    "    \n",
    "    return missing_number\n"
   ]
  },
  {
   "cell_type": "markdown",
   "id": "ab99f7dd-07c3-4326-aa2c-a2d48d18ab6f",
   "metadata": {},
   "source": [
    " ## Problem 3 : Given an array of n positive numbers. All numbers occurs even number of times except 1 which\n",
    "## occurs odd number of times. Find that number in O(n) time and O(1) space. Ex: [1,2,3,2,3,1,3]. 3 is repeats odd."
   ]
  },
  {
   "cell_type": "markdown",
   "id": "58c7dd8a-b395-4fb9-b13c-ca15eb7dc5c9",
   "metadata": {},
   "source": [
    "XOR Operation Properties\n",
    "The XOR operation has two key properties that make it useful for this problem:\n",
    "\n",
    "Identity: \n",
    "𝑎\n",
    "⊕\n",
    "𝑎\n",
    "=\n",
    "0\n",
    "a⊕a=0. Any number XORed with itself results in 0.\n",
    "Identity: \n",
    "𝑎\n",
    "⊕\n",
    "0\n",
    "=\n",
    "𝑎\n",
    "a⊕0=a. Any number XORed with 0 results in the number itself.\n",
    "Commutative and Associative: The order in which you apply XOR does not matter.\n",
    "Approach\n",
    "Initialize a variable (let's call it result) to 0.\n",
    "Iterate through the array and XOR each element with result.\n",
    "After processing all elements, result will contain the number that occurs an odd number of times because XORing all numbers that occur an even number of times will cancel them out (i.e., result in 0), leaving only the number that occurs an odd number of times.\n",
    "Steps:\n",
    "Initialize result to 0.\n",
    "XOR each element of the array with result.\n",
    "Return result after processing all elements."
   ]
  },
  {
   "cell_type": "code",
   "execution_count": 2,
   "id": "c813b712-e317-4bb1-af4d-7f1e1b55bf2d",
   "metadata": {},
   "outputs": [],
   "source": [
    "def find_odd_occurrence_number(nums):\n",
    "    result = 0\n",
    "    for num in nums:\n",
    "        result ^= num\n",
    "    return result\n"
   ]
  },
  {
   "cell_type": "markdown",
   "id": "b64ccbeb-2456-4ba9-8f46-514af6365d71",
   "metadata": {},
   "source": [
    "## Problem 4 : Given an array of n elements. Find two elements in the array such that their sum is equal to given\n",
    "element K."
   ]
  },
  {
   "cell_type": "markdown",
   "id": "dbcba1ac-0e6d-4e6a-a65f-5e1f6393f8bd",
   "metadata": {},
   "source": [
    "Approach 1: Hashing Approach\n",
    "This approach uses a hash set to keep track of the elements we've seen so far. It works in \n",
    "𝑂\n",
    "(\n",
    "𝑛\n",
    ")\n",
    "O(n) time and \n",
    "𝑂\n",
    "(\n",
    "𝑛\n",
    ")\n",
    "O(n) space.\n",
    "\n",
    "Steps:\n",
    "Initialize an empty hash set.\n",
    "Iterate through the array:\n",
    "For each element num, compute the complement as \n",
    "complement\n",
    "=\n",
    "𝐾\n",
    "−\n",
    "num\n",
    "complement=K−num.\n",
    "Check if the complement is already in the hash set:\n",
    "If it is, return the pair (num, complement).\n",
    "If it is not, add num to the hash set.\n",
    "If you finish iterating without finding a pair, then no such elements exist."
   ]
  },
  {
   "cell_type": "code",
   "execution_count": 4,
   "id": "4c9d1376-7356-4962-b9ae-9472f1a83a73",
   "metadata": {},
   "outputs": [],
   "source": [
    "def find_pair_with_sum(nums, K):\n",
    "    seen = set()\n",
    "    for num in nums:\n",
    "        complement = K - num\n",
    "        if complement in seen:\n",
    "            return (complement, num)\n",
    "        seen.add(num)\n",
    "    return None\n"
   ]
  },
  {
   "cell_type": "markdown",
   "id": "0b8ade13-ceeb-4d16-bae4-9dabb25b1b87",
   "metadata": {},
   "source": [
    "## Problem 5 : Given an array of both positive and negative numbers, find two numbers such that their sum is\n",
    "## closest to 0. Ex: [ 1 ,60 ,-10, 70, -80,85]. Ans : -80,85."
   ]
  },
  {
   "cell_type": "markdown",
   "id": "0471c9c0-dde3-41ce-bd43-d9ed1866138e",
   "metadata": {},
   "source": [
    "Approach: Two-Pointer Technique\n",
    "Steps:\n",
    "Sort the array: Sorting helps in efficiently finding the closest pair using the two-pointer technique.\n",
    "Initialize two pointers:\n",
    "left pointer at the start (index 0).\n",
    "right pointer at the end (index \n",
    "𝑛\n",
    "−\n",
    "1\n",
    "n−1).\n",
    "Find the closest pair:\n",
    "Compute the sum of the elements at the two pointers.\n",
    "If this sum is closer to 0 than the previously found sums, update the closest sum and pair.\n",
    "Move the pointers:\n",
    "If the current sum is positive, move the right pointer left to decrease the sum.\n",
    "If the current sum is negative, move the left pointer right to increase the sum.\n",
    "Repeat until the pointers meet."
   ]
  },
  {
   "cell_type": "code",
   "execution_count": 9,
   "id": "1be0edbc-3e35-4eaf-bb0e-aecfb0b5c794",
   "metadata": {},
   "outputs": [],
   "source": [
    "def find_closest_pair_to_zero(nums):\n",
    "    # Step 1: Sort the array\n",
    "    nums.sort()\n",
    "    \n",
    "    # Initialize pointers and variables\n",
    "    left = 0\n",
    "    right = len(nums) - 1\n",
    "    closest_pair = (None, None)\n",
    "    closest_sum = float('inf')  # Initialize to infinity\n",
    "\n",
    "    # Step 2: Use two-pointer technique to find the closest pair\n",
    "    while left < right:\n",
    "        current_sum = nums[left] + nums[right]\n",
    "        \n",
    "        # Update closest pair if current_sum is closer to 0\n",
    "        if abs(current_sum) < abs(closest_sum):\n",
    "            closest_sum = current_sum\n",
    "            closest_pair = (nums[left], nums[right])\n",
    "        \n",
    "        # Move pointers based on the current_sum\n",
    "        if current_sum < 0:\n",
    "            left += 1\n",
    "        else:\n",
    "            right -= 1\n",
    "    \n",
    "    return closest_pair\n"
   ]
  },
  {
   "cell_type": "markdown",
   "id": "c470c747-dcb6-427c-9a5e-911ac40437b5",
   "metadata": {},
   "source": [
    "## Problem 6 : Given an array of n elements . Find three elements such that their sum is equal to the given\n",
    "number."
   ]
  },
  {
   "cell_type": "markdown",
   "id": "d5d84988-1052-4fcc-a509-707c17378102",
   "metadata": {},
   "source": [
    "Approach: Sorting and Two-Pointer Technique\n",
    "Steps:\n",
    "Sort the array: Sorting helps efficiently find triplets using the two-pointer technique.\n",
    "Iterate through the array:\n",
    "For each element, treat it as the first element of the triplet.\n",
    "Use the two-pointer technique to find two other elements that together with the current element sum up to \n",
    "𝐾\n",
    "K.\n",
    "Detailed Steps:\n",
    "Sort the array.\n",
    "Fix the first element of the triplet and then find the remaining two elements using a two-pointer approach.\n",
    "Initialize left pointer just after the current element and right pointer at the end of the array.\n",
    "Adjust the left and right pointers based on the sum of the current element, left element, and right element:\n",
    "If the sum equals \n",
    "𝐾\n",
    "K, you’ve found a triplet.\n",
    "If the sum is less than \n",
    "𝐾\n",
    "K, move the left pointer to the right to increase the sum.\n",
    "If the sum is greater than \n",
    "𝐾\n",
    "K, move the right pointer to the left to decrease the sum."
   ]
  },
  {
   "cell_type": "code",
   "execution_count": 12,
   "id": "3a316f5a-da7d-42ec-8de3-a4391b7345ff",
   "metadata": {},
   "outputs": [],
   "source": [
    "def find_triplets_with_sum(nums, K):\n",
    "    nums.sort()\n",
    "    n = len(nums)\n",
    "    triplets = []\n",
    "    \n",
    "    for i in range(n - 2):\n",
    "        # To avoid counting the same triplet multiple times\n",
    "        if i > 0 and nums[i] == nums[i - 1]:\n",
    "            continue\n",
    "        \n",
    "        # Initialize two pointers\n",
    "        left = i + 1\n",
    "        right = n - 1\n",
    "        \n",
    "        while left < right:\n",
    "            current_sum = nums[i] + nums[left] + nums[right]\n",
    "            \n",
    "            if current_sum == K:\n",
    "                triplets.append((nums[i], nums[left], nums[right]))\n",
    "                # Move pointers and avoid duplicates\n",
    "                while left < right and nums[left] == nums[left + 1]:\n",
    "                    left += 1\n",
    "                while left < right and nums[right] == nums[right - 1]:\n",
    "                    right -= 1\n",
    "                left += 1\n",
    "                right -= 1\n",
    "            elif current_sum < K:\n",
    "                left += 1\n",
    "            else:\n",
    "                right -= 1\n",
    "    \n",
    "    return triplets\n"
   ]
  },
  {
   "cell_type": "markdown",
   "id": "0d899c8c-89e9-47ff-99d9-1367cc7650f4",
   "metadata": {},
   "source": [
    "## Problem 8 : An element is a majority if it appears more than n/2 times. Give an algorithm takes an array of n\n",
    " ## element as argument and identifies a majority (if it exists)."
   ]
  },
  {
   "cell_type": "markdown",
   "id": "e7dc843a-a640-4d20-941c-881b7913fe94",
   "metadata": {},
   "source": [
    "Boyer-Moore Voting Algorithm\n",
    "Concept:\n",
    "The Boyer-Moore Voting Algorithm works in two phases:\n",
    "\n",
    "Candidate Selection: Identify a potential majority candidate.\n",
    "Candidate Verification: Verify if the candidate is indeed the majority element by counting its occurrences.\n",
    "Steps:\n",
    "Initialize:\n",
    "\n",
    "A variable candidate to store the potential majority element.\n",
    "A variable count to keep track of the count of the current candidate.\n",
    "First Pass (Candidate Selection):\n",
    "\n",
    "Traverse the array and update the candidate and count as follows:\n",
    "If count is 0, set the current element as candidate and set count to 1.\n",
    "If the current element is equal to candidate, increment count.\n",
    "If the current element is different from candidate, decrement count.\n",
    "Second Pass (Candidate Verification):\n",
    "\n",
    "Traverse the array again and count the occurrences of the candidate.\n",
    "If the count is greater than \n",
    "𝑛\n",
    "2\n",
    "2\n",
    "n\n",
    "​\n",
    " , return the candidate as the majority element.\n",
    "Otherwise, return that no majority element exists."
   ]
  },
  {
   "cell_type": "code",
   "execution_count": 13,
   "id": "72880f46-cbcd-40ca-bfe2-f3e1e510b3d9",
   "metadata": {},
   "outputs": [],
   "source": [
    "def find_majority_element(nums):\n",
    "    # Step 1: Candidate Selection\n",
    "    candidate = None\n",
    "    count = 0\n",
    "    for num in nums:\n",
    "        if count == 0:\n",
    "            candidate = num\n",
    "            count = 1\n",
    "        elif num == candidate:\n",
    "            count += 1\n",
    "        else:\n",
    "            count -= 1\n",
    "    \n",
    "    # Step 2: Candidate Verification\n",
    "    count = 0\n",
    "    for num in nums:\n",
    "        if num == candidate:\n",
    "            count += 1\n",
    "    \n",
    "    if count > len(nums) // 2:\n",
    "        return candidate\n",
    "    else:\n",
    "        return None\n"
   ]
  },
  {
   "cell_type": "markdown",
   "id": "f9bad02d-6233-4aac-8259-50febea00ff5",
   "metadata": {},
   "source": [
    "## Problem 9 : Given n × n matrix, and in each row all 1’s are followed by 0’s. Find the row with the maximum\n",
    " ## number of 0’s."
   ]
  },
  {
   "cell_type": "markdown",
   "id": "8b29db33-b116-4631-8831-52ed5be5f059",
   "metadata": {},
   "source": [
    "Approach: Efficient Traversal\n",
    "Concept:\n",
    "Since each row in the matrix is sorted with 1’s followed by 0’s, you can start from the top-right corner of the matrix and traverse leftwards. This way, you can efficiently find the row with the maximum number of 0’s.\n",
    "\n",
    "Steps:\n",
    "Start from the top-right corner of the matrix, i.e., position (0, \n",
    "𝑛\n",
    "−\n",
    "1\n",
    "n−1).\n",
    "\n",
    "Traverse the matrix:\n",
    "\n",
    "If the current element is 0, move left to find the first occurrence of 0 in that row and count the number of 0’s. Keep track of the maximum count and the corresponding row.\n",
    "If the current element is 1, move down to the next row because the current row will not have more 0’s than the row you are checking.\n",
    "Continue this process until you reach the end of the matrix or traverse all rows."
   ]
  },
  {
   "cell_type": "code",
   "execution_count": 14,
   "id": "4481327c-7c74-49dd-ae40-aa25c7998598",
   "metadata": {},
   "outputs": [],
   "source": [
    "def find_row_with_max_zeros(matrix):\n",
    "    n = len(matrix)\n",
    "    max_zeros = -1\n",
    "    row_index = -1\n",
    "    \n",
    "    # Start from the top-right corner\n",
    "    col = n - 1\n",
    "    for row in range(n):\n",
    "        # Move left until we find the first 0 or reach the start of the row\n",
    "        while col >= 0 and matrix[row][col] == 0:\n",
    "            col -= 1\n",
    "        \n",
    "        # Calculate the number of 0's in the current row\n",
    "        num_zeros = n - (col + 1)\n",
    "        \n",
    "        # Update the row with maximum number of 0's\n",
    "        if num_zeros > max_zeros:\n",
    "            max_zeros = num_zeros\n",
    "            row_index = row\n",
    "    \n",
    "    return row_index\n"
   ]
  },
  {
   "cell_type": "code",
   "execution_count": null,
   "id": "be5e1741-fe29-487d-ba0b-b12e55465e6c",
   "metadata": {},
   "outputs": [],
   "source": []
  }
 ],
 "metadata": {
  "kernelspec": {
   "display_name": "Python 3 (ipykernel)",
   "language": "python",
   "name": "python3"
  },
  "language_info": {
   "codemirror_mode": {
    "name": "ipython",
    "version": 3
   },
   "file_extension": ".py",
   "mimetype": "text/x-python",
   "name": "python",
   "nbconvert_exporter": "python",
   "pygments_lexer": "ipython3",
   "version": "3.10.8"
  }
 },
 "nbformat": 4,
 "nbformat_minor": 5
}
