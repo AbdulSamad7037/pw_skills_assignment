{
 "cells": [
  {
   "cell_type": "markdown",
   "id": "ada5e8b8-d99b-494e-bd98-91524723e077",
   "metadata": {},
   "source": [
    "1. Declare two variables, x and y, and assign them integer values. Swap the values of these variables without using any temporary variable."
   ]
  },
  {
   "cell_type": "code",
   "execution_count": 1,
   "id": "e5c0cfe6-0322-42e9-b46d-ec50fac20d20",
   "metadata": {},
   "outputs": [
    {
     "name": "stdout",
     "output_type": "stream",
     "text": [
      "Before swapping: x = 10, y = 20\n",
      "After swapping: x = 20, y = 10\n"
     ]
    }
   ],
   "source": [
    "x = 10\n",
    "y = 20\n",
    "\n",
    "print(f\"Before swapping: x = {x}, y = {y}\")\n",
    "\n",
    "x, y = y, x\n",
    "\n",
    "print(f\"After swapping: x = {x}, y = {y}\")"
   ]
  },
  {
   "cell_type": "markdown",
   "id": "a679e404-e195-4cd9-a87e-df26f35c0d24",
   "metadata": {},
   "source": [
    "2. Create a program that calculates the area of a rectangle. Take the length and width as inputs from the user and store them in variables. Calculate and display the area."
   ]
  },
  {
   "cell_type": "code",
   "execution_count": 4,
   "id": "be0107e1-9bbb-4da7-9b94-85bc6f7aaaf7",
   "metadata": {},
   "outputs": [
    {
     "name": "stdin",
     "output_type": "stream",
     "text": [
      "Enter the length of the rectangle:  23\n",
      "Enter the width of the rectangle:  45\n"
     ]
    },
    {
     "name": "stdout",
     "output_type": "stream",
     "text": [
      "The area of the rectangle with length 23.0 and width 45.0 is: 1035.0\n"
     ]
    }
   ],
   "source": [
    "\n",
    "length = float(input(\"Enter the length of the rectangle: \"))\n",
    "width = float(input(\"Enter the width of the rectangle: \"))\n",
    "\n",
    "\n",
    "area = length * width\n",
    "\n",
    "\n",
    "print(f\"The area of the rectangle with length {length} and width {width} is: {area}\")"
   ]
  },
  {
   "cell_type": "markdown",
   "id": "034c2e6e-1f35-4347-9aa5-1a3e634793fd",
   "metadata": {},
   "source": [
    " 3. Write a Python program that converts temperatures from Celsius to Fahrenheit. Take the temperature in    Celsius as input, store it in a variable, convert it to Fahrenheit, and display the result."
   ]
  },
  {
   "cell_type": "code",
   "execution_count": 5,
   "id": "b5e2d99a-7669-409d-aec3-cb2f252eceab",
   "metadata": {},
   "outputs": [
    {
     "name": "stdin",
     "output_type": "stream",
     "text": [
      "Enter temperature in Celsius:  33\n"
     ]
    },
    {
     "name": "stdout",
     "output_type": "stream",
     "text": [
      "33.0°C is equal to 91.4°F\n"
     ]
    }
   ],
   "source": [
    "\n",
    "celsius = float(input(\"Enter temperature in Celsius: \"))\n",
    "\n",
    "\n",
    "fahrenheit = (celsius * 9/5) + 32\n",
    "\n",
    "\n",
    "print(f\"{celsius}°C is equal to {fahrenheit}°F\")\n"
   ]
  },
  {
   "cell_type": "markdown",
   "id": "9fa255a2-d55a-43ab-ba07-2abe166ba526",
   "metadata": {},
   "source": [
    "                       String based questions"
   ]
  },
  {
   "cell_type": "markdown",
   "id": "61aacd4e-33c1-4b62-9cd4-9ee25b495113",
   "metadata": {},
   "source": [
    "1. Write a Python program that takes a string as input and prints the length of the string."
   ]
  },
  {
   "cell_type": "code",
   "execution_count": 6,
   "id": "d54a3876-d66d-41e0-a9b3-f4b61b8aa043",
   "metadata": {},
   "outputs": [
    {
     "name": "stdin",
     "output_type": "stream",
     "text": [
      "Enter a string:  abdul\n"
     ]
    },
    {
     "name": "stdout",
     "output_type": "stream",
     "text": [
      "The length of the input string is: 5\n"
     ]
    }
   ],
   "source": [
    "\n",
    "input_string = input(\"Enter a string: \")\n",
    "\n",
    "\n",
    "length_of_string = len(input_string)\n",
    "\n",
    "\n",
    "print(f\"The length of the input string is: {length_of_string}\")\n"
   ]
  },
  {
   "cell_type": "markdown",
   "id": "9bfaf382-8a1a-4024-a2cf-477fd745de99",
   "metadata": {},
   "source": [
    "2. Create a program that takes a sentence from the user and counts the number of vowels (a, e, i, o, u) in the string."
   ]
  },
  {
   "cell_type": "code",
   "execution_count": 1,
   "id": "b743a68a-b7e9-4233-8078-a37de1a46a92",
   "metadata": {},
   "outputs": [
    {
     "name": "stdin",
     "output_type": "stream",
     "text": [
      "Enter a sentence:  Abdul Samad\n"
     ]
    },
    {
     "name": "stdout",
     "output_type": "stream",
     "text": [
      "Total number of vowels: 4\n"
     ]
    }
   ],
   "source": [
    "sentence = input(\"Enter a sentence: \").lower()\n",
    "vowels = 'aeiou'\n",
    "\n",
    "count = sum(sentence.count(v) for v in vowels)\n",
    "\n",
    "print(f\"Total number of vowels: {count}\")\n"
   ]
  },
  {
   "cell_type": "markdown",
   "id": "a3d34ecb-18a9-4017-8881-87906475466c",
   "metadata": {},
   "source": [
    "3. Given a string, reverse the order of characters using string slicing and print the reversed string."
   ]
  },
  {
   "cell_type": "code",
   "execution_count": 2,
   "id": "e452eaae-07f8-4c4d-8c0b-9b4fd2a9b883",
   "metadata": {},
   "outputs": [
    {
     "name": "stdin",
     "output_type": "stream",
     "text": [
      "Enter a string:  Abdul Samad\n"
     ]
    },
    {
     "name": "stdout",
     "output_type": "stream",
     "text": [
      "Reversed string: damaS ludbA\n"
     ]
    }
   ],
   "source": [
    "# step 1: Get the  input string  from user\n",
    "input_string = input(\"Enter a string: \")\n",
    "\n",
    "# Step 2: Use string slicing to reverse the string\n",
    "# Syntax: [start:end:step]\n",
    "# Here, we start from the end of the string, move backward with step -1, and stop at the beginning.\n",
    "reversed_string = input_string[::-1]\n",
    "\n",
    "# Step 3: Print the reversed string\n",
    "print(\"Reversed string:\", reversed_string)"
   ]
  },
  {
   "cell_type": "markdown",
   "id": "d53c2b0e-7e77-43aa-9389-887d7211da89",
   "metadata": {},
   "source": [
    ". We use the input() function to get a string input from the user and store it in the variable input_string.\n",
    "\n",
    ". To reverse the string using string slicing, we use the slicing syntax [start:end:step]. In this case, start is not specified, so it defaults to the beginning of the string. \n",
    "\n",
    ". We print the reversed string using the print() function. The text \"Reversed string:\" is printed followed by the value of the reversed_string variable, which contains the reversed input string."
   ]
  },
  {
   "cell_type": "markdown",
   "id": "15a31d36-6395-4b43-afae-548b62888a0b",
   "metadata": {},
   "source": [
    "4. Write a program that takes a string as input and checks if it is a palindrome (reads the same forwards and backwards)."
   ]
  },
  {
   "cell_type": "code",
   "execution_count": 4,
   "id": "ac260e0a-7857-4254-8382-9dd90e1d4781",
   "metadata": {},
   "outputs": [
    {
     "name": "stdin",
     "output_type": "stream",
     "text": [
      "Enter the string:  elba i saw ere was i able\n"
     ]
    },
    {
     "name": "stdout",
     "output_type": "stream",
     "text": [
      "The input string is a palindrome.\n"
     ]
    }
   ],
   "source": [
    "# Step 1: Get input from the user\n",
    "input_string = input(\"Enter the string: \")\n",
    "\n",
    "# Step 2: Remove spaces and convert the input string to lowercase\n",
    "cleaned_string = input_string.replace(\" \", \"\").lower()\n",
    "\n",
    "# Step 3: Reverse the cleaned string using slicing\n",
    "reversed_string = cleaned_string[::-1]\n",
    "\n",
    "# Step 4: Compare the cleaned string with its reverse to check for palindrome\n",
    "if cleaned_string == reversed_string:\n",
    "    print(\"The input string is a palindrome.\")\n",
    "else:\n",
    "    print(\"The input string is not a palindrome.\")\n"
   ]
  },
  {
   "cell_type": "markdown",
   "id": "0e6a63c8-c93b-41d1-9c0e-6405fe4ba606",
   "metadata": {},
   "source": [
    ".We start by taking user input using the input() function and store it in the variable input_string.\n",
    "\n",
    ".We remove spaces from the input string using the replace() method and convert it to lowercase using the lower() method. This step is necessary to ensure that the comparison is case-insensitive and doesn't consider spaces.\n",
    "We create the reversed_string by slicing the cleaned_string with a step of -1, which effectively reverses the string.\n",
    "\n",
    ".We compare the cleaned_string with its reversed version (reversed_string) using an if statement. If they are equal, we print that the input string is a palindrome; otherwise, we print that it's not a palindrome."
   ]
  },
  {
   "cell_type": "markdown",
   "id": "ca0bc151-57e0-4a73-8ab8-073d912ea43c",
   "metadata": {},
   "source": [
    "5. Create a program that takes a string as input and removes all the spaces from it. Print the modified string without spaces."
   ]
  },
  {
   "cell_type": "code",
   "execution_count": 2,
   "id": "709cb04e-9703-4f89-a95f-353bce3d6a99",
   "metadata": {},
   "outputs": [
    {
     "name": "stdin",
     "output_type": "stream",
     "text": [
      "Enter a string:  S a a m a d\n"
     ]
    },
    {
     "name": "stdout",
     "output_type": "stream",
     "text": [
      "Modified string without spaces: Saamad\n"
     ]
    }
   ],
   "source": [
    "# Step 1: Take input from the user\n",
    "input_string = input(\"Enter a string: \")\n",
    "\n",
    "# Step 2: Initialize an empty string to store the modified string without spaces\n",
    "modified_string = \"\"\n",
    "\n",
    "# Step 3: Iterate through each character in the input string\n",
    "for char in input_string:\n",
    "    # Step 4: Check if the character is not a space\n",
    "    if char != \" \":\n",
    "        # Step 5: If not a space, append the character to the modified string\n",
    "        modified_string += char\n",
    "\n",
    "# Step 6: Print the modified string without spaces\n",
    "print(\"Modified string without spaces:\", modified_string)"
   ]
  },
  {
   "cell_type": "code",
   "execution_count": null,
   "id": "cafb4368-0e5b-4e5c-ab41-a75ed502f540",
   "metadata": {},
   "outputs": [],
   "source": [
    ".We start by taking input from the user using the input() function and store it in the variable input_string.\n",
    "\n",
    ".We initialize an empty string modified_string to store the final string without spaces.\n",
    "\n",
    ".We use a for loop to iterate through each character in the input_string.\n",
    "\n",
    ".Inside the loop, we check if the current character is not a space (denoted by \" \").\n",
    "\n",
    ".If the character is not a space, we append it to the modified_string using the += operator.\n",
    "\n",
    "Finally, after the loop completes, we print the modified string without spaces.\n"
   ]
  }
 ],
 "metadata": {
  "kernelspec": {
   "display_name": "Python 3 (ipykernel)",
   "language": "python",
   "name": "python3"
  },
  "language_info": {
   "codemirror_mode": {
    "name": "ipython",
    "version": 3
   },
   "file_extension": ".py",
   "mimetype": "text/x-python",
   "name": "python",
   "nbconvert_exporter": "python",
   "pygments_lexer": "ipython3",
   "version": "3.10.8"
  }
 },
 "nbformat": 4,
 "nbformat_minor": 5
}
