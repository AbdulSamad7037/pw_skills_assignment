{
 "cells": [
  {
   "cell_type": "markdown",
   "id": "ef52281a-d1bf-428a-852e-e969b3ba2b6b",
   "metadata": {},
   "source": [
    "## 1. What is a Python library? Why do we use Python libraries?"
   ]
  },
  {
   "cell_type": "markdown",
   "id": "041f25f9-f751-4206-8f90-600dfb571643",
   "metadata": {},
   "source": [
    "A Python library is a collection of pre-written code that you can import into your Python projects to use its functionality without having to write the code from scratch. Libraries are designed to handle specific tasks or provide a set of related tools, which makes development faster and easier.\n",
    "\n",
    "Why Do We Use Python Libraries?\n",
    "Efficiency: Libraries save time by providing pre-written and tested code for common tasks, so you don't have to reinvent the wheel.\n",
    "\n",
    "Complexity Management: They handle complex tasks (e.g., machine learning, data visualization) that would be difficult to implement on your own.\n",
    "\n",
    "Consistency: Using libraries ensures that your code adheres to standard practices and reduces the likelihood of errors.\n",
    "\n",
    "Community Support: Popular libraries are often well-documented and supported by large communities, making it easier to find help and resources.\n",
    "\n",
    "Focus on Core Logic: By using libraries, you can focus on solving the main problem rather than spending time on lower-level coding tasks."
   ]
  },
  {
   "cell_type": "markdown",
   "id": "ca5d81f1-19dd-430a-b00c-b06b831a279b",
   "metadata": {},
   "source": [
    "## 2. What is the difference between Numpy array and List?"
   ]
  },
  {
   "cell_type": "markdown",
   "id": "c56a321f-f780-484f-9dfc-4e5e314f38f3",
   "metadata": {},
   "source": [
    "Python provides both lists and NumPy arrays for handling collections of data, but they have key differences:\n",
    "\n",
    "1. Data Type Flexibility\n",
    "List: Can contain elements of different data types (e.g., integers, floats, strings, objects) within the same list.\n",
    "Example: [1, 2.5, 'hello', [3, 4]]\n",
    "NumPy Array: Designed for numerical computations, it requires all elements to be of the same data type. When you create a NumPy array, it will automatically convert all elements to a compatible data type.\n",
    "Example: np.array([1, 2, 3.5]) will result in an array of floats: array([1.0, 2.0, 3.5])\n",
    "2. Performance\n",
    "List: Generally slower for numerical operations because they are not optimized for large-scale numerical computations.\n",
    "NumPy Array: Much faster for numerical computations because they are implemented in C and use contiguous memory blocks, which allows for efficient vectorized operations.\n",
    "3. Functionality\n",
    "List: Basic data structure with standard operations like append, insert, and remove. They are versatile but lack advanced mathematical operations.\n",
    "NumPy Array: Provides a wide range of mathematical and statistical functions, such as element-wise operations, broadcasting, and linear algebra operations.\n",
    "4. Memory Efficiency\n",
    "List: Less memory-efficient because it stores references to objects, which can lead to overhead when handling large datasets.\n",
    "NumPy Array: More memory-efficient as it stores elements in a contiguous block of memory, reducing the overhead.\n",
    "5. Multidimensional Support"
   ]
  },
  {
   "cell_type": "markdown",
   "id": "848fea6b-42db-4eea-a24b-65e2ef035f24",
   "metadata": {},
   "source": [
    "## 3. Find the shape, size and dimension of the following array?\n",
    "[[1, 2, 3, 4]\n",
    "[5, 6, 7, 8],\n",
    "[9, 10, 11, 12]]"
   ]
  },
  {
   "cell_type": "markdown",
   "id": "e329f407-9a2f-406f-a63f-9b93b878860e",
   "metadata": {},
   "source": [
    "For the given array:\n",
    "\n",
    "- **Shape**: `(3, 4)` — The array has 3 rows and 4 columns.\n",
    "- **Size**: `12` — The total number of elements in the array.\n",
    "- **Dimension**: `2` — The array is 2-dimensional."
   ]
  },
  {
   "cell_type": "markdown",
   "id": "fd36f56d-82c3-46a4-9df2-af9e45c55f81",
   "metadata": {},
   "source": [
    "## 4. Write python code to access the first row of the following array?\n",
    "[[1, 2, 3, 4]\n",
    "[5, 6, 7, 8],\n",
    "[9, 10, 11, 12]]"
   ]
  },
  {
   "cell_type": "code",
   "execution_count": 1,
   "id": "f15f50d9-902b-446b-b7dc-033597d6d5b0",
   "metadata": {},
   "outputs": [
    {
     "name": "stdout",
     "output_type": "stream",
     "text": [
      "[1 2 3 4]\n"
     ]
    }
   ],
   "source": [
    "import numpy as np\n",
    "\n",
    "# Given array\n",
    "array = np.array([[1, 2, 3, 4],\n",
    "                  [5, 6, 7, 8],\n",
    "                  [9, 10, 11, 12]])\n",
    "\n",
    "# Accessing the first row\n",
    "first_row = array[0]\n",
    "\n",
    "# Output the first row\n",
    "print(first_row)\n"
   ]
  },
  {
   "cell_type": "markdown",
   "id": "dd555273-cfa3-4ccd-bbce-4a5e5b4df492",
   "metadata": {},
   "source": [
    "## 5. How do you access the element at the third row and fourth column from the given numpy array?\n",
    "[[1, 2, 3, 4]\n",
    "[5, 6, 7, 8],\n",
    "[9, 10, 11, 12]]"
   ]
  },
  {
   "cell_type": "code",
   "execution_count": 2,
   "id": "a7184a59-b2d9-4f3d-83f1-ddb9d612c809",
   "metadata": {},
   "outputs": [
    {
     "name": "stdout",
     "output_type": "stream",
     "text": [
      "12\n"
     ]
    }
   ],
   "source": [
    "import numpy as np\n",
    "\n",
    "# Given array\n",
    "array = np.array([[1, 2, 3, 4],\n",
    "                  [5, 6, 7, 8],\n",
    "                  [9, 10, 11, 12]])\n",
    "\n",
    "# Accessing the element at the third row and fourth column\n",
    "element = array[2, 3]\n",
    "\n",
    "# Output the element\n",
    "print(element)\n"
   ]
  },
  {
   "cell_type": "markdown",
   "id": "dd39888d-e5d8-4a24-931e-dbb0f63cfe9d",
   "metadata": {},
   "source": [
    "## 6. Write code to extract all odd-indexed elements from the given numpy array?\n",
    "[[1, 2, 3, 4]\n",
    "[5, 6, 7, 8],\n",
    "[9, 10, 11, 12]]"
   ]
  },
  {
   "cell_type": "code",
   "execution_count": 3,
   "id": "f41821af-105a-4028-b7ac-de624bb3bd11",
   "metadata": {},
   "outputs": [
    {
     "name": "stdout",
     "output_type": "stream",
     "text": [
      "[[ 2  4]\n",
      " [ 6  8]\n",
      " [10 12]]\n"
     ]
    }
   ],
   "source": [
    "import numpy as np\n",
    "\n",
    "# Given array\n",
    "array = np.array([[1, 2, 3, 4],\n",
    "                  [5, 6, 7, 8],\n",
    "                  [9, 10, 11, 12]])\n",
    "\n",
    "# Extracting odd-indexed elements (considering 1-based index for clarity)\n",
    "odd_elements = array[:, 1::2]\n",
    "\n",
    "# Output the result\n",
    "print(odd_elements)\n"
   ]
  },
  {
   "cell_type": "markdown",
   "id": "cf035d2b-72d5-424e-ac35-f5520af13b2c",
   "metadata": {},
   "source": [
    "## 7. How can you generate a random 3x3 matrix with values between 0 and 1?"
   ]
  },
  {
   "cell_type": "code",
   "execution_count": 4,
   "id": "df485e29-cc1e-4dd4-bd83-c58fecc253d8",
   "metadata": {},
   "outputs": [
    {
     "name": "stdout",
     "output_type": "stream",
     "text": [
      "[[0.8028761  0.961977   0.18497263]\n",
      " [0.9912916  0.1477958  0.37974748]\n",
      " [0.16001038 0.65404952 0.63675721]]\n"
     ]
    }
   ],
   "source": [
    "import numpy as np\n",
    "\n",
    "# Generating a random 3x3 matrix with values between 0 and 1\n",
    "random_matrix = np.random.rand(3, 3)\n",
    "\n",
    "# Output the random matrix\n",
    "print(random_matrix)\n"
   ]
  },
  {
   "cell_type": "markdown",
   "id": "347a87bd-2054-491a-b5ee-ce0416d31e17",
   "metadata": {},
   "source": [
    "## 8. Describe the difference between np.random.rand and np.random.randn?"
   ]
  },
  {
   "cell_type": "markdown",
   "id": "ce9bf00a-faf3-4bce-96d0-5157f7dbb698",
   "metadata": {},
   "source": [
    ". Distribution\n",
    "np.random.rand: Generates numbers from a uniform distribution (all numbers between 0 and 1 have an equal chance of being chosen).\n",
    "np.random.randn: Generates numbers from a standard normal distribution (Gaussian distribution) with a mean of 0 and a standard deviation of 1.\n",
    "2. Range\n",
    "np.random.rand: The generated numbers are always between 0 and 1.\n",
    "np.random.randn: The generated numbers typically fall between -3 and 3, but can be any real number.\n",
    "3. Use Cases\n",
    "np.random.rand: Used when you need random numbers within a uniform range (e.g., simulating dice rolls, generating probabilities).\n",
    "np.random.randn: Used when you need random numbers that follow a normal distribution (e.g., in statistical modeling, machine learning)."
   ]
  },
  {
   "cell_type": "markdown",
   "id": "f27da1b6-cbed-4bd7-8601-b0a5c4f2c625",
   "metadata": {},
   "source": [
    "## 9. Write code to increase the dimension of the following array?\n",
    "[[1, 2, 3, 4]\n",
    "[5, 6, 7, 8],\n",
    "[9, 10, 11, 12]]"
   ]
  },
  {
   "cell_type": "code",
   "execution_count": 6,
   "id": "e33d2111-39a9-417e-8211-1b48d506c7f9",
   "metadata": {},
   "outputs": [
    {
     "name": "stdout",
     "output_type": "stream",
     "text": [
      "Original Array Shape: (3, 4)\n",
      "Expanded Array Shape: (1, 3, 4)\n",
      "Expanded Array:\n",
      "[[[ 1  2  3  4]\n",
      "  [ 5  6  7  8]\n",
      "  [ 9 10 11 12]]]\n"
     ]
    }
   ],
   "source": [
    "import numpy as np\n",
    "\n",
    "# Original array\n",
    "array = np.array([[1, 2, 3, 4],\n",
    "                  [5, 6, 7, 8],\n",
    "                  [9, 10, 11, 12]])\n",
    "\n",
    "# Add an extra dimension\n",
    "expanded_array = np.expand_dims(array, axis=0)  # Adds a new axis at position 0\n",
    "\n",
    "print(\"Original Array Shape:\", array.shape)\n",
    "print(\"Expanded Array Shape:\", expanded_array.shape)\n",
    "print(\"Expanded Array:\")\n",
    "print(expanded_array)\n"
   ]
  },
  {
   "cell_type": "markdown",
   "id": "7e9a51be-3f5a-49ee-95ed-3b1f362b4fbe",
   "metadata": {},
   "source": [
    "## 10. How to transpose the following array in NumPy?\n",
    "[[1, 2, 3, 4]\n",
    "[5, 6, 7, 8],\n",
    "[9, 10, 11, 12]]"
   ]
  },
  {
   "cell_type": "code",
   "execution_count": 7,
   "id": "5849c2ea-3ec7-4528-a896-86ebd3b0059e",
   "metadata": {},
   "outputs": [
    {
     "name": "stdout",
     "output_type": "stream",
     "text": [
      "Original Array:\n",
      "[[ 1  2  3  4]\n",
      " [ 5  6  7  8]\n",
      " [ 9 10 11 12]]\n",
      "Transposed Array:\n",
      "[[ 1  5  9]\n",
      " [ 2  6 10]\n",
      " [ 3  7 11]\n",
      " [ 4  8 12]]\n"
     ]
    }
   ],
   "source": [
    "import numpy as np\n",
    "\n",
    "# Original array\n",
    "array = np.array([[1, 2, 3, 4],\n",
    "                  [5, 6, 7, 8],\n",
    "                  [9, 10, 11, 12]])\n",
    "\n",
    "# Transpose the array\n",
    "transposed_array = array.T  # Using the .T attribute\n",
    "\n",
    "# Alternatively, you can use np.transpose()\n",
    "# transposed_array = np.transpose(array)\n",
    "\n",
    "print(\"Original Array:\")\n",
    "print(array)\n",
    "print(\"Transposed Array:\")\n",
    "print(transposed_array)\n"
   ]
  },
  {
   "cell_type": "markdown",
   "id": "1e1075c6-25b0-4f32-8bfb-b888b82dbd0f",
   "metadata": {},
   "source": [
    "## 12. Which function in Numpy can be used to swap the byte order of an array?"
   ]
  },
  {
   "cell_type": "markdown",
   "id": "a25bde48-97b9-4a84-8875-d9e29a5d618c",
   "metadata": {},
   "source": [
    "In NumPy, the function used to swap the byte order of an array is .byteswap(). This function changes the byte order of the array's elements, which is useful for handling data that might have been saved or transmitted in a different byte order."
   ]
  },
  {
   "cell_type": "markdown",
   "id": "f1a590f6-1eba-4fd1-bef9-402c8597edc2",
   "metadata": {},
   "source": [
    "## 14. What does the np.reshape function do, and how is it used?\n"
   ]
  },
  {
   "cell_type": "code",
   "execution_count": null,
   "id": "d2037334-ceff-444e-9638-7b76d934c094",
   "metadata": {},
   "outputs": [],
   "source": [
    "The np.reshape function in NumPy is used to change the shape of an array without changing its data. It returns a new view of the array with the specified shape, as long as the new shape is compatible with the original shape (i.e., the total number of elements must be the same)."
   ]
  }
 ],
 "metadata": {
  "kernelspec": {
   "display_name": "Python 3 (ipykernel)",
   "language": "python",
   "name": "python3"
  },
  "language_info": {
   "codemirror_mode": {
    "name": "ipython",
    "version": 3
   },
   "file_extension": ".py",
   "mimetype": "text/x-python",
   "name": "python",
   "nbconvert_exporter": "python",
   "pygments_lexer": "ipython3",
   "version": "3.10.8"
  }
 },
 "nbformat": 4,
 "nbformat_minor": 5
}
