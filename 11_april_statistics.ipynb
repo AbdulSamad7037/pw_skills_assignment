{
 "cells": [
  {
   "cell_type": "markdown",
   "id": "35268cef-6e6c-4563-954d-833545ccdd84",
   "metadata": {},
   "source": [
    "## Q= Generate a list o> R00 integers containing values between 90 to R30 and store it in the variable `int_list`.\n",
    "## A>ter generating the list, >ind the >ollowing"
   ]
  },
  {
   "cell_type": "markdown",
   "id": "89f0c573-48d8-4c1c-bf06-ce833dacc2ac",
   "metadata": {},
   "source": [
    "##   (i) Write a Python function to calculate the mean of a given list of numbers.\n",
    "\n",
    "Create a function to find the median of a list of numbers."
   ]
  },
  {
   "cell_type": "code",
   "execution_count": 1,
   "id": "2540de3f-142a-41d2-ab28-106263a0bf95",
   "metadata": {},
   "outputs": [
    {
     "name": "stdout",
     "output_type": "stream",
     "text": [
      "Generated List:\n",
      "[123, 107, 126, 113, 96, 129, 101, 100, 99, 119, 99, 97, 95, 105, 119, 107, 111, 121, 92, 118, 110, 118, 104, 118, 98, 90, 96, 121, 107, 105, 105, 120, 128, 94, 92, 94, 112, 117, 92, 117, 109, 119, 114, 118, 114, 116, 92, 95, 108, 125, 100, 115, 125, 91, 106, 122, 114, 111, 129, 94, 127, 117, 128, 121, 93, 94, 116, 114, 100, 130, 112, 101, 114, 119, 96, 123, 116, 90, 125, 125, 102, 123, 125, 123, 104, 101, 126, 97, 110, 128, 101, 119, 128, 117, 93, 115, 100, 128, 130, 118]\n"
     ]
    }
   ],
   "source": [
    "import random\n",
    "\n",
    "# Generate a list of 100 random integers between 90 and 130\n",
    "int_list = [random.randint(90, 130) for _ in range(100)]\n",
    "\n",
    "print(\"Generated List:\")\n",
    "print(int_list)\n"
   ]
  },
  {
   "cell_type": "code",
   "execution_count": 2,
   "id": "abb66c0f-6d56-4974-8e12-bc131a800224",
   "metadata": {},
   "outputs": [
    {
     "name": "stdout",
     "output_type": "stream",
     "text": [
      "Mean of the List: 110.81\n"
     ]
    }
   ],
   "source": [
    "def calculate_mean(numbers):\n",
    "    return sum(numbers) / len(numbers)\n",
    "\n",
    "mean = calculate_mean(int_list)\n",
    "print(\"Mean of the List:\", mean)\n"
   ]
  },
  {
   "cell_type": "code",
   "execution_count": 3,
   "id": "1ef4d55d-ec84-43a5-8dc8-abf315cd36ea",
   "metadata": {},
   "outputs": [
    {
     "name": "stdout",
     "output_type": "stream",
     "text": [
      "Median of the List: 113.5\n"
     ]
    }
   ],
   "source": [
    "def calculate_median(numbers):\n",
    "    sorted_numbers = sorted(numbers)\n",
    "    n = len(sorted_numbers)\n",
    "    mid = n // 2\n",
    "    \n",
    "    if n % 2 == 0:  # If the number of elements is even\n",
    "        return (sorted_numbers[mid - 1] + sorted_numbers[mid]) / 2\n",
    "    else:  # If the number of elements is odd\n",
    "        return sorted_numbers[mid]\n",
    "\n",
    "median = calculate_median(int_list)\n",
    "print(\"Median of the List:\", median)\n"
   ]
  },
  {
   "cell_type": "markdown",
   "id": "58e7fa55-fcbb-4615-90a2-e9ed9d2dc110",
   "metadata": {},
   "source": [
    "##   (ii) Develop a program to compute the mode of a list of integers."
   ]
  },
  {
   "cell_type": "code",
   "execution_count": 4,
   "id": "6694b4f1-8de3-4e52-a0c5-d517820d805e",
   "metadata": {},
   "outputs": [
    {
     "name": "stdout",
     "output_type": "stream",
     "text": [
      "Generated List:\n",
      "[121, 101, 91, 117, 111, 119, 96, 101, 123, 106, 110, 110, 103, 122, 110, 106, 95, 99, 120, 128, 96, 108, 117, 92, 91, 92, 117, 104, 128, 125, 97, 91, 102, 103, 104, 125, 108, 94, 107, 104, 115, 90, 126, 103, 100, 125, 123, 97, 93, 95, 104, 103, 94, 115, 109, 90, 116, 117, 122, 120, 94, 116, 120, 129, 114, 126, 93, 108, 103, 94, 100, 92, 106, 125, 130, 130, 112, 109, 119, 116, 97, 99, 119, 102, 113, 109, 105, 107, 126, 99, 101, 116, 92, 120, 121, 128, 101, 107, 119, 104]\n",
      "Mode of the List: [103, 104]\n"
     ]
    }
   ],
   "source": [
    "from collections import Counter\n",
    "\n",
    "def calculate_mode(numbers):\n",
    "    # Count the occurrences of each number in the list\n",
    "    counts = Counter(numbers)\n",
    "    \n",
    "    # Find the maximum frequency\n",
    "    max_count = max(counts.values())\n",
    "    \n",
    "    # Find all numbers that have the maximum frequency\n",
    "    mode = [num for num, count in counts.items() if count == max_count]\n",
    "    \n",
    "    return mode\n",
    "\n",
    "# Example usage\n",
    "int_list = [random.randint(90, 130) for _ in range(100)]  # Generate the list of integers\n",
    "\n",
    "mode = calculate_mode(int_list)\n",
    "print(\"Generated List:\")\n",
    "print(int_list)\n",
    "print(\"Mode of the List:\", mode)\n"
   ]
  },
  {
   "cell_type": "markdown",
   "id": "1b0ad722-372b-440e-a659-03bd4b969823",
   "metadata": {},
   "source": [
    "##   (iii) Implement a function to calculate the weighted mean of a list of values and their corresponding weights."
   ]
  },
  {
   "cell_type": "code",
   "execution_count": 5,
   "id": "4b566a52-3e5c-4273-850c-0088144e5af8",
   "metadata": {},
   "outputs": [
    {
     "name": "stdout",
     "output_type": "stream",
     "text": [
      "Values: [5, 83, 69, 95, 52, 74, 17, 55, 1, 85]\n",
      "Weights: [2, 1, 1, 1, 5, 6, 9, 7, 8, 9]\n",
      "Weighted Mean: 46.36734693877551\n"
     ]
    }
   ],
   "source": [
    "import random\n",
    "\n",
    "# Generate example values and weights\n",
    "values = [random.randint(1, 100) for _ in range(10)]\n",
    "weights = [random.randint(1, 10) for _ in range(10)]\n",
    "\n",
    "def calculate_weighted_mean(values, weights):\n",
    "    if len(values) != len(weights):\n",
    "        raise ValueError(\"The length of values and weights must be the same.\")\n",
    "    \n",
    "    # Calculate the weighted sum\n",
    "    weighted_sum = sum(value * weight for value, weight in zip(values, weights))\n",
    "    \n",
    "    # Calculate the sum of weights\n",
    "    total_weight = sum(weights)\n",
    "    \n",
    "    # Calculate the weighted mean\n",
    "    if total_weight == 0:\n",
    "        raise ValueError(\"The sum of weights cannot be zero.\")\n",
    "    \n",
    "    weighted_mean = weighted_sum / total_weight\n",
    "    \n",
    "    return weighted_mean\n",
    "\n",
    "# Calculate the weighted mean\n",
    "weighted_mean = calculate_weighted_mean(values, weights)\n",
    "\n",
    "print(\"Values:\", values)\n",
    "print(\"Weights:\", weights)\n",
    "print(\"Weighted Mean:\", weighted_mean)\n"
   ]
  },
  {
   "cell_type": "markdown",
   "id": "ef6ffd2e-d85a-4db6-8838-e47cccfc60a1",
   "metadata": {},
   "source": [
    "##   (iv) Write a Python function to find the geometric mean of a list of positive numbers."
   ]
  },
  {
   "cell_type": "code",
   "execution_count": 6,
   "id": "347d9d29-d894-4900-a552-c0865cc9e71d",
   "metadata": {},
   "outputs": [
    {
     "name": "stdout",
     "output_type": "stream",
     "text": [
      "Numbers: [5.743997810491189, 4.565605582003068, 9.615521650041309, 2.982183018716374, 3.0840425950692754, 8.105719845784936, 8.150891315526412, 2.88815297649644, 2.737911954683735, 1.0070057140397082]\n",
      "Geometric Mean: 4.061073469124565\n"
     ]
    }
   ],
   "source": [
    "import numpy as np\n",
    "import random\n",
    "\n",
    "# Generate example positive numbers\n",
    "numbers = [random.uniform(1, 10) for _ in range(10)]\n",
    "\n",
    "def calculate_geometric_mean(numbers):\n",
    "    if not all(x > 0 for x in numbers):\n",
    "        raise ValueError(\"All numbers must be positive.\")\n",
    "    \n",
    "    # Compute the product of all numbers\n",
    "    product = np.prod(numbers)\n",
    "    \n",
    "    # Calculate the geometric mean\n",
    "    geometric_mean = product ** (1 / len(numbers))\n",
    "    \n",
    "    return geometric_mean\n",
    "\n",
    "# Calculate the geometric mean\n",
    "geometric_mean = calculate_geometric_mean(numbers)\n",
    "\n",
    "print(\"Numbers:\", numbers)\n",
    "print(\"Geometric Mean:\", geometric_mean)\n"
   ]
  },
  {
   "cell_type": "markdown",
   "id": "acfe240d-3729-4f74-99ce-6d3ec803fabc",
   "metadata": {},
   "source": [
    "##   (v) Create a program to calculate the harmonic mean of a list of values"
   ]
  },
  {
   "cell_type": "code",
   "execution_count": 7,
   "id": "45a34f28-8c0f-405a-8086-33672e28450d",
   "metadata": {},
   "outputs": [
    {
     "name": "stdout",
     "output_type": "stream",
     "text": [
      "Values: [4.534197318511188, 9.426878948191431, 8.556083577908606, 7.0157484834900705, 2.9130180995742867, 1.1649870017764994, 3.8633757056779734, 4.046797652791348, 2.281185125936811, 1.4662113740337244]\n",
      "Harmonic Mean: 2.9290708238501666\n"
     ]
    }
   ],
   "source": [
    "import random\n",
    "\n",
    "# Generate example positive values\n",
    "values = [random.uniform(1, 10) for _ in range(10)]\n",
    "\n",
    "def calculate_harmonic_mean(values):\n",
    "    if not all(x > 0 for x in values):\n",
    "        raise ValueError(\"All values must be positive.\")\n",
    "    \n",
    "    # Calculate the sum of reciprocals\n",
    "    reciprocal_sum = sum(1 / value for value in values)\n",
    "    \n",
    "    # Calculate the harmonic mean\n",
    "    harmonic_mean = len(values) / reciprocal_sum\n",
    "    \n",
    "    return harmonic_mean\n",
    "\n",
    "# Calculate the harmonic mean\n",
    "harmonic_mean = calculate_harmonic_mean(values)\n",
    "\n",
    "print(\"Values:\", values)\n",
    "print(\"Harmonic Mean:\", harmonic_mean)\n"
   ]
  },
  {
   "cell_type": "markdown",
   "id": "5de1742b-db4d-435d-be76-f474ef28f68f",
   "metadata": {},
   "source": [
    "##  (vi) Build a function to determine the midrange of a list of numbers (average of the minimum and maximum)."
   ]
  },
  {
   "cell_type": "code",
   "execution_count": 8,
   "id": "fb82fa5d-7a83-4baf-b85f-d704c0af8d23",
   "metadata": {},
   "outputs": [
    {
     "name": "stdout",
     "output_type": "stream",
     "text": [
      "Midrange: 3.0\n"
     ]
    }
   ],
   "source": [
    "def calculate_midrange(numbers):\n",
    "    if not numbers:\n",
    "        raise ValueError(\"The list cannot be empty.\")\n",
    "    \n",
    "    # Find the minimum and maximum values\n",
    "    min_value = min(numbers)\n",
    "    max_value = max(numbers)\n",
    "    \n",
    "    # Calculate the midrange\n",
    "    midrange = (min_value + max_value) / 2\n",
    "    \n",
    "    return midrange\n",
    "\n",
    "# Example usage\n",
    "numbers = [1, 2, 3, 4, 5]\n",
    "midrange = calculate_midrange(numbers)\n",
    "print(\"Midrange:\", midrange)\n"
   ]
  },
  {
   "cell_type": "markdown",
   "id": "1a6508ef-4fe1-4939-8294-367e28bd3d0e",
   "metadata": {},
   "source": [
    "##  2. Generate a list o> 500 integers containing values between 200 to 300 and store it in the variable `int_list2`.\n",
    "## A>ter generating the list, >ind the >ollowing:"
   ]
  },
  {
   "cell_type": "markdown",
   "id": "5f009db7-6b3e-4111-a288-603380a41f78",
   "metadata": {},
   "source": [
    "(ii) Write a Python function to calculate the range of a given list of numbers"
   ]
  },
  {
   "cell_type": "code",
   "execution_count": 9,
   "id": "c648b7a2-764d-4590-a9b5-50dbb836ae67",
   "metadata": {},
   "outputs": [
    {
     "name": "stdout",
     "output_type": "stream",
     "text": [
      "Generated List:\n",
      "[287, 267, 220, 230, 222, 230, 272, 258, 280, 212, 264, 245, 213, 224, 267, 285, 264, 269, 297, 277, 245, 252, 281, 215, 244, 267, 233, 259, 280, 295, 204, 299, 274, 233, 274, 239, 294, 289, 224, 220, 282, 220, 291, 226, 262, 250, 266, 280, 211, 278, 265, 233, 291, 235, 210, 272, 229, 277, 286, 242, 284, 245, 221, 248, 238, 295, 229, 226, 278, 269, 297, 260, 262, 275, 222, 268, 253, 235, 256, 230, 209, 218, 255, 298, 254, 227, 202, 265, 294, 231, 284, 298, 228, 249, 248, 286, 277, 245, 276, 211, 269, 230, 272, 282, 233, 265, 256, 222, 260, 286, 209, 244, 285, 232, 217, 268, 247, 269, 226, 208, 211, 206, 284, 271, 268, 259, 220, 233, 285, 293, 282, 297, 267, 215, 269, 262, 210, 280, 278, 277, 278, 248, 293, 217, 236, 244, 246, 226, 286, 263, 230, 200, 259, 262, 282, 271, 254, 247, 262, 263, 212, 230, 231, 207, 264, 213, 220, 208, 226, 201, 256, 298, 245, 225, 216, 272, 236, 202, 296, 277, 207, 296, 239, 248, 243, 269, 279, 245, 207, 200, 204, 289, 238, 203, 268, 283, 203, 217, 271, 252, 211, 286, 224, 283, 232, 209, 202, 283, 283, 203, 234, 222, 257, 297, 240, 275, 201, 230, 286, 251, 243, 244, 298, 297, 255, 287, 290, 256, 256, 286, 278, 256, 212, 206, 286, 267, 222, 218, 242, 220, 219, 215, 240, 284, 235, 296, 259, 261, 244, 213, 268, 278, 253, 240, 251, 244, 293, 267, 218, 221, 220, 242, 200, 207, 293, 283, 266, 221, 300, 237, 300, 226, 294, 248, 285, 226, 208, 231, 267, 227, 248, 228, 255, 277, 282, 270, 288, 220, 244, 260, 282, 235, 238, 229, 285, 221, 234, 204, 233, 224, 292, 247, 272, 210, 261, 300, 203, 261, 278, 265, 200, 223, 296, 206, 264, 271, 259, 221, 253, 269, 279, 241, 227, 224, 228, 284, 265, 231, 258, 212, 208, 208, 222, 295, 232, 218, 276, 266, 204, 246, 253, 284, 253, 213, 217, 247, 223, 235, 231, 212, 242, 234, 300, 263, 218, 265, 227, 269, 230, 231, 291, 294, 227, 281, 221, 250, 241, 221, 226, 230, 252, 280, 286, 276, 226, 294, 290, 221, 208, 278, 272, 258, 269, 264, 219, 201, 268, 292, 259, 286, 221, 265, 207, 260, 297, 295, 294, 236, 288, 229, 211, 239, 262, 256, 253, 264, 241, 203, 257, 234, 227, 241, 252, 205, 269, 225, 296, 265, 299, 296, 203, 261, 230, 266, 230, 281, 262, 225, 246, 212, 280, 237, 278, 252, 206, 234, 206, 269, 274, 236, 236, 232, 293, 277, 237, 285, 256, 290, 208, 218, 275, 242, 292, 201, 211, 297, 216, 236, 280, 214, 200, 237, 243, 205, 231, 263, 239, 201, 205, 209, 229, 264, 274, 288, 212, 219, 225, 209, 296, 295, 217, 206, 295, 213, 281, 269, 225, 285, 224, 276, 293, 292, 288, 267, 207, 275, 298, 208, 285, 210]\n",
      "Range of the List: 100\n"
     ]
    }
   ],
   "source": [
    "import random\n",
    "\n",
    "# Generate a list of 500 random integers between 200 and 300\n",
    "int_list2 = [random.randint(200, 300) for _ in range(500)]\n",
    "\n",
    "def calculate_range(numbers):\n",
    "    if not numbers:\n",
    "        raise ValueError(\"The list cannot be empty.\")\n",
    "    \n",
    "    # Find the minimum and maximum values\n",
    "    min_value = min(numbers)\n",
    "    max_value = max(numbers)\n",
    "    \n",
    "    # Calculate the range\n",
    "    range_value = max_value - min_value\n",
    "    \n",
    "    return range_value\n",
    "\n",
    "# Calculate the range of int_list2\n",
    "range_value = calculate_range(int_list2)\n",
    "\n",
    "print(\"Generated List:\")\n",
    "print(int_list2)\n",
    "print(\"Range of the List:\", range_value)\n"
   ]
  },
  {
   "cell_type": "markdown",
   "id": "fce83e2b-8b26-4b2a-ad99-3ca1472e73f1",
   "metadata": {},
   "source": [
    "##   (iii) Create a program to find the variance and standard deviation of a list of numbers."
   ]
  },
  {
   "cell_type": "code",
   "execution_count": 10,
   "id": "daf94978-4728-42ad-814c-190bc431fa8c",
   "metadata": {},
   "outputs": [
    {
     "name": "stdout",
     "output_type": "stream",
     "text": [
      "Numbers: [40.079018703035835, 66.42283002391777, 63.647087347284, 49.078101295204675, 94.25866679167814, 27.7031946929003, 37.123293764505334, 32.74824591385848, 59.32342893966773, 14.785678303721257]\n",
      "Variance: 477.9618344251295\n",
      "Standard Deviation: 21.862338265270928\n"
     ]
    }
   ],
   "source": [
    "import random\n",
    "import math\n",
    "\n",
    "# Generate example numbers\n",
    "numbers = [random.uniform(1, 100) for _ in range(10)]\n",
    "\n",
    "def calculate_mean(numbers):\n",
    "    if not numbers:\n",
    "        raise ValueError(\"The list cannot be empty.\")\n",
    "    return sum(numbers) / len(numbers)\n",
    "\n",
    "def calculate_variance(numbers):\n",
    "    mean = calculate_mean(numbers)\n",
    "    squared_diffs = [(x - mean) ** 2 for x in numbers]\n",
    "    variance = sum(squared_diffs) / len(numbers)\n",
    "    return variance\n",
    "\n",
    "def calculate_standard_deviation(numbers):\n",
    "    variance = calculate_variance(numbers)\n",
    "    std_dev = math.sqrt(variance)\n",
    "    return std_dev\n",
    "\n",
    "# Calculate variance and standard deviation\n",
    "variance = calculate_variance(numbers)\n",
    "standard_deviation = calculate_standard_deviation(numbers)\n",
    "\n",
    "print(\"Numbers:\", numbers)\n",
    "print(\"Variance:\", variance)\n",
    "print(\"Standard Deviation:\", standard_deviation)\n"
   ]
  },
  {
   "cell_type": "markdown",
   "id": "56c8d980-f29e-4ac0-a472-cd785c85da20",
   "metadata": {},
   "source": [
    "##   (iv) Implement a function to compute the interquartile range (IQR) of a list of values"
   ]
  },
  {
   "cell_type": "code",
   "execution_count": 11,
   "id": "2b77328d-810d-4e78-ad08-fd25a8dde9dc",
   "metadata": {},
   "outputs": [
    {
     "name": "stdout",
     "output_type": "stream",
     "text": [
      "Values: [11.764515755190551, 85.88734773366973, 47.57806312314491, 42.24060666001027, 80.43524878032868, 27.932425605123463, 15.519870607184998, 30.894302777890164, 72.11393198069085, 9.583172039123323, 34.83056496939352, 49.66605489430632, 86.12338611037627, 10.349039935831577, 47.99201600704264, 57.9725159201814, 15.474096549883884, 84.39054730679378, 11.736635316093949, 91.5222800833659]\n",
      "Interquartile Range (IQR): 58.68583408774059\n"
     ]
    }
   ],
   "source": [
    "import random\n",
    "import numpy as np\n",
    "\n",
    "# Generate example values\n",
    "values = [random.uniform(1, 100) for _ in range(20)]\n",
    "\n",
    "def calculate_iqr(values):\n",
    "    if not values:\n",
    "        raise ValueError(\"The list cannot be empty.\")\n",
    "    \n",
    "    # Sort the list\n",
    "    sorted_values = sorted(values)\n",
    "    \n",
    "    # Calculate the first quartile (Q1) and third quartile (Q3)\n",
    "    q1 = np.percentile(sorted_values, 25)\n",
    "    q3 = np.percentile(sorted_values, 75)\n",
    "    \n",
    "    # Compute the interquartile range (IQR)\n",
    "    iqr = q3 - q1\n",
    "    \n",
    "    return iqr\n",
    "\n",
    "# Calculate the IQR\n",
    "iqr = calculate_iqr(values)\n",
    "\n",
    "print(\"Values:\", values)\n",
    "print(\"Interquartile Range (IQR):\", iqr)\n"
   ]
  },
  {
   "cell_type": "markdown",
   "id": "1032c3ee-06d5-495f-9245-b6b33c6e906b",
   "metadata": {},
   "source": [
    "##  (v) Build a program to calculate the coefficient of variation for a dataset"
   ]
  },
  {
   "cell_type": "code",
   "execution_count": 12,
   "id": "bf49cff3-ddf7-4e88-80e4-92010deb7fb2",
   "metadata": {},
   "outputs": [
    {
     "name": "stdout",
     "output_type": "stream",
     "text": [
      "Values: [72.1733661981291, 95.49795949802939, 51.312317408805185, 62.630702657341715, 48.31655554326862, 29.238559416491796, 22.194581305461366, 41.36224130961517, 14.560259446849345, 50.43333957321321, 11.775360105377576, 12.357036222799962, 8.630849199905999, 90.08347673856775, 58.624538618083214, 74.48612193015971, 60.55863208638869, 17.48646778084492, 57.65393670276851, 2.6617438198386205]\n",
      "Coefficient of Variation (CV): 61.89686486072613 %\n"
     ]
    }
   ],
   "source": [
    "import random\n",
    "import math\n",
    "\n",
    "def calculate_mean(numbers):\n",
    "    if not numbers:\n",
    "        raise ValueError(\"The list cannot be empty.\")\n",
    "    return sum(numbers) / len(numbers)\n",
    "\n",
    "def calculate_standard_deviation(numbers):\n",
    "    if not numbers:\n",
    "        raise ValueError(\"The list cannot be empty.\")\n",
    "    \n",
    "    mean = calculate_mean(numbers)\n",
    "    squared_diffs = [(x - mean) ** 2 for x in numbers]\n",
    "    variance = sum(squared_diffs) / len(numbers)\n",
    "    std_dev = math.sqrt(variance)\n",
    "    return std_dev\n",
    "\n",
    "def calculate_coefficient_of_variation(numbers):\n",
    "    if not numbers:\n",
    "        raise ValueError(\"The list cannot be empty.\")\n",
    "    \n",
    "    mean = calculate_mean(numbers)\n",
    "    std_dev = calculate_standard_deviation(numbers)\n",
    "    \n",
    "    if mean == 0:\n",
    "        raise ValueError(\"Mean cannot be zero for CV calculation.\")\n",
    "    \n",
    "    cv = (std_dev / mean) * 100\n",
    "    return cv\n",
    "\n",
    "# Example usage\n",
    "values = [random.uniform(1, 100) for _ in range(20)]\n",
    "\n",
    "# Calculate the coefficient of variation\n",
    "cv = calculate_coefficient_of_variation(values)\n",
    "\n",
    "print(\"Values:\", values)\n",
    "print(\"Coefficient of Variation (CV):\", cv, \"%\")\n"
   ]
  },
  {
   "cell_type": "markdown",
   "id": "caeaf4f6-80b0-45fc-81d4-ed1206b0619f",
   "metadata": {},
   "source": [
    "##   (vii) Create a program to calculate the quartile deviation of a list of values."
   ]
  },
  {
   "cell_type": "code",
   "execution_count": 13,
   "id": "527e59f7-f0ee-4f88-b989-2cd98f2cb77b",
   "metadata": {},
   "outputs": [
    {
     "name": "stdout",
     "output_type": "stream",
     "text": [
      "Values: [29.44187385926971, 97.38951401860092, 1.1474600418130458, 31.07540252986651, 40.1677668978432, 94.93095158260807, 34.05154497606794, 81.08846094918778, 93.82481103798469, 13.316676539318811, 54.04022503421077, 72.07530576412098, 73.7197478819758, 95.98279787110943, 31.910475734638304, 96.77222369739502, 28.1322802222969, 63.85029859211113, 78.5482488696285, 15.167148750937033]\n",
      "Quartile Deviation: 26.802764054584852\n"
     ]
    }
   ],
   "source": [
    "import random\n",
    "import numpy as np\n",
    "\n",
    "# Generate example values\n",
    "values = [random.uniform(1, 100) for _ in range(20)]\n",
    "\n",
    "def calculate_quartile_deviation(values):\n",
    "    if not values:\n",
    "        raise ValueError(\"The list cannot be empty.\")\n",
    "    \n",
    "    # Sort the list\n",
    "    sorted_values = sorted(values)\n",
    "    \n",
    "    # Calculate the first quartile (Q1) and third quartile (Q3)\n",
    "    q1 = np.percentile(sorted_values, 25)\n",
    "    q3 = np.percentile(sorted_values, 75)\n",
    "    \n",
    "    # Compute the quartile deviation\n",
    "    quartile_deviation = (q3 - q1) / 2\n",
    "    \n",
    "    return quartile_deviation\n",
    "\n",
    "# Calculate the quartile deviation\n",
    "quartile_deviation = calculate_quartile_deviation(values)\n",
    "\n",
    "print(\"Values:\", values)\n",
    "print(\"Quartile Deviation:\", quartile_deviation)\n"
   ]
  },
  {
   "cell_type": "markdown",
   "id": "3350dc68-89ee-4b23-a192-c2f332a3bf72",
   "metadata": {},
   "source": [
    "## \u001d",
    ")  Write a P\u001e",
    "thon class representing a discrete random variable with methods to calculate its expected\n",
    "value and variance."
   ]
  },
  {
   "cell_type": "code",
   "execution_count": 14,
   "id": "42da4994-d678-4976-b2f2-59e7681a98d7",
   "metadata": {},
   "outputs": [
    {
     "name": "stdout",
     "output_type": "stream",
     "text": [
      "Expected Value: 3.0\n",
      "Variance: 1.0\n"
     ]
    }
   ],
   "source": [
    "class DiscreteRandomVariable:\n",
    "    def __init__(self, values, probabilities):\n",
    "        \"\"\"\n",
    "        Initializes the DiscreteRandomVariable with values and their corresponding probabilities.\n",
    "        \n",
    "        Parameters:\n",
    "        values (list): List of possible values of the random variable.\n",
    "        probabilities (list): List of probabilities corresponding to each value.\n",
    "        \"\"\"\n",
    "        if len(values) != len(probabilities):\n",
    "            raise ValueError(\"The length of values and probabilities must be the same.\")\n",
    "        if not all(0 <= p <= 1 for p in probabilities) or not abs(sum(probabilities) - 1) < 1e-6:\n",
    "            raise ValueError(\"Probabilities must be between 0 and 1 and sum to 1.\")\n",
    "        \n",
    "        self.values = values\n",
    "        self.probabilities = probabilities\n",
    "    \n",
    "    def expected_value(self):\n",
    "        \"\"\"\n",
    "        Calculates the expected value (mean) of the discrete random variable.\n",
    "        \n",
    "        Returns:\n",
    "        float: The expected value of the random variable.\n",
    "        \"\"\"\n",
    "        return sum(value * prob for value, prob in zip(self.values, self.probabilities))\n",
    "    \n",
    "    def variance(self):\n",
    "        \"\"\"\n",
    "        Calculates the variance of the discrete random variable.\n",
    "        \n",
    "        Returns:\n",
    "        float: The variance of the random variable.\n",
    "        \"\"\"\n",
    "        mean = self.expected_value()\n",
    "        return sum(prob * (value - mean) ** 2 for value, prob in zip(self.values, self.probabilities))\n",
    "\n",
    "# Example usage\n",
    "values = [1, 2, 3, 4]\n",
    "probabilities = [0.1, 0.2, 0.3, 0.4]\n",
    "\n",
    "random_variable = DiscreteRandomVariable(values, probabilities)\n",
    "\n",
    "print(\"Expected Value:\", random_variable.expected_value())\n",
    "print(\"Variance:\", random_variable.variance())\n"
   ]
  },
  {
   "cell_type": "markdown",
   "id": "b649cc69-48dc-4d36-9926-3809f9d9e8f0",
   "metadata": {},
   "source": [
    "## 0) Implement a program to simulate the rolling o6 a 6air six-sided die and calculate the expected value and\n",
    "## variance o6 the outcomes."
   ]
  },
  {
   "cell_type": "code",
   "execution_count": 1,
   "id": "e68b3bdd-a8e5-4881-95b0-ca6765de3e77",
   "metadata": {},
   "outputs": [
    {
     "name": "stdout",
     "output_type": "stream",
     "text": [
      "Simulated Rolls (First 10): [1, 3, 1, 3, 4, 5, 5, 6, 5, 6]\n",
      "Expected Value: 3.4813\n",
      "Variance: 2.9100503100000528\n"
     ]
    }
   ],
   "source": [
    "import random\n",
    "\n",
    "def roll_die(n_rolls):\n",
    "    \"\"\"Simulates rolling a fair six-sided die n_rolls times.\n",
    "    \n",
    "    Parameters:\n",
    "    n_rolls (int): The number of times to roll the die.\n",
    "    \n",
    "    Returns:\n",
    "    list: A list of outcomes from rolling the die.\n",
    "    \"\"\"\n",
    "    return [random.randint(1, 6) for _ in range(n_rolls)]\n",
    "\n",
    "def calculate_expected_value(rolls):\n",
    "    \"\"\"Calculates the expected value of the die rolls.\n",
    "    \n",
    "    Parameters:\n",
    "    rolls (list): A list of outcomes from rolling the die.\n",
    "    \n",
    "    Returns:\n",
    "    float: The expected value of the die rolls.\n",
    "    \"\"\"\n",
    "    return sum(rolls) / len(rolls)\n",
    "\n",
    "def calculate_variance(rolls, expected_value):\n",
    "    \"\"\"Calculates the variance of the die rolls.\n",
    "    \n",
    "    Parameters:\n",
    "    rolls (list): A list of outcomes from rolling the die.\n",
    "    expected_value (float): The expected value of the die rolls.\n",
    "    \n",
    "    Returns:\n",
    "    float: The variance of the die rolls.\n",
    "    \"\"\"\n",
    "    return sum((x - expected_value) ** 2 for x in rolls) / len(rolls)\n",
    "\n",
    "# Simulate rolling the die\n",
    "n_rolls = 10000\n",
    "rolls = roll_die(n_rolls)\n",
    "\n",
    "# Calculate expected value and variance\n",
    "expected_value = calculate_expected_value(rolls)\n",
    "variance = calculate_variance(rolls, expected_value)\n",
    "\n",
    "print(f\"Simulated Rolls (First 10): {rolls[:10]}\")  # Print the first 10 rolls\n",
    "print(f\"Expected Value: {expected_value}\")\n",
    "print(f\"Variance: {variance}\")\n"
   ]
  },
  {
   "cell_type": "markdown",
   "id": "0834e1d3-dfa4-47c6-a526-5e65abed8d64",
   "metadata": {},
   "source": [
    "## _) Create a Python function to generate random samples from a given probability distribution (e.g.,\n",
    "binomial, Poisson) and calculate their mean and variance."
   ]
  },
  {
   "cell_type": "code",
   "execution_count": 2,
   "id": "a7f9c2c7-bd6f-4fc5-ac7b-fa8ee9a7a162",
   "metadata": {},
   "outputs": [
    {
     "name": "stdout",
     "output_type": "stream",
     "text": [
      "Binomial Distribution - Mean: 5.084, Variance: 2.4429439999999993\n",
      "Poisson Distribution - Mean: 5.133, Variance: 5.237311\n"
     ]
    }
   ],
   "source": [
    "import numpy as np\n",
    "\n",
    "def generate_samples(distribution, params, n_samples):\n",
    "    \"\"\"\n",
    "    Generates random samples from a given distribution and calculates their mean and variance.\n",
    "    \n",
    "    Parameters:\n",
    "    distribution (str): The name of the distribution ('binomial' or 'poisson').\n",
    "    params (tuple): Parameters for the distribution.\n",
    "    n_samples (int): Number of random samples to generate.\n",
    "    \n",
    "    Returns:\n",
    "    tuple: Mean and variance of the generated samples.\n",
    "    \"\"\"\n",
    "    if distribution == 'binomial':\n",
    "        n, p = params\n",
    "        samples = np.random.binomial(n, p, n_samples)\n",
    "    elif distribution == 'poisson':\n",
    "        lam = params[0]\n",
    "        samples = np.random.poisson(lam, n_samples)\n",
    "    else:\n",
    "        raise ValueError(\"Unsupported distribution. Use 'binomial' or 'poisson'.\")\n",
    "    \n",
    "    mean = np.mean(samples)\n",
    "    variance = np.var(samples)\n",
    "    \n",
    "    return mean, variance\n",
    "\n",
    "# Example usage for binomial distribution\n",
    "n_samples = 1000\n",
    "binomial_params = (10, 0.5)  # n = 10, p = 0.5\n",
    "binomial_mean, binomial_variance = generate_samples('binomial', binomial_params, n_samples)\n",
    "print(f\"Binomial Distribution - Mean: {binomial_mean}, Variance: {binomial_variance}\")\n",
    "\n",
    "# Example usage for Poisson distribution\n",
    "poisson_params = (5,)  # λ = 5\n",
    "poisson_mean, poisson_variance = generate_samples('poisson', poisson_params, n_samples)\n",
    "print(f\"Poisson Distribution - Mean: {poisson_mean}, Variance: {poisson_variance}\")\n"
   ]
  },
  {
   "cell_type": "markdown",
   "id": "8d742bed-2a26-4b23-b156-d1afbf136903",
   "metadata": {},
   "source": [
    "##  Write a Python script to generate random numbers from a Gaussian (normal) distribution and compute\n",
    " ##t the mean, variance, and standard deviation of the samples."
   ]
  },
  {
   "cell_type": "code",
   "execution_count": 5,
   "id": "74d87d98-07af-4d56-971b-8d1633efc8ac",
   "metadata": {},
   "outputs": [
    {
     "name": "stdout",
     "output_type": "stream",
     "text": [
      "Mean of Samples: -0.04610494376905335\n",
      "Variance of Samples: 0.987023113592304\n",
      "Standard Deviation of Samples: 0.9934903691492455\n"
     ]
    }
   ],
   "source": [
    "import numpy as np\n",
    "\n",
    "def generate_normal_samples(mean, std_dev, n_samples):\n",
    "    \"\"\"\n",
    "    Generates random samples from a Gaussian (normal) distribution and calculates their mean,\n",
    "    variance, and standard deviation.\n",
    "    \n",
    "    Parameters:\n",
    "    mean (float): Mean of the normal distribution.\n",
    "    std_dev (float): Standard deviation of the normal distribution.\n",
    "    n_samples (int): Number of random samples to generate.\n",
    "    \n",
    "    Returns:\n",
    "    tuple: Mean, variance, and standard deviation of the generated samples.\n",
    "    \"\"\"\n",
    "    # Generate random samples from a normal distribution\n",
    "    samples = np.random.normal(mean, std_dev, n_samples)\n",
    "    \n",
    "    # Calculate mean, variance, and standard deviation\n",
    "    sample_mean = np.mean(samples)\n",
    "    sample_variance = np.var(samples)\n",
    "    sample_std_dev = np.sqrt(sample_variance)\n",
    "    \n",
    "    return sample_mean, sample_variance, sample_std_dev\n",
    "\n",
    "# Example usage\n",
    "mean = 0       # Mean of the normal distribution\n",
    "std_dev = 1    # Standard deviation of the normal distribution\n",
    "n_samples = 1000  # Number of samples to generate\n",
    "\n",
    "mean, variance, std_dev = generate_normal_samples(mean, std_dev, n_samples)\n",
    "\n",
    "print(f\"Mean of Samples: {mean}\")\n",
    "print(f\"Variance of Samples: {variance}\")\n",
    "print(f\"Standard Deviation of Samples: {std_dev}\")\n"
   ]
  },
  {
   "cell_type": "markdown",
   "id": "c197010a-e4c5-46a1-a266-e754ca290392",
   "metadata": {},
   "source": [
    "## \u0012) Use seaborn library to load tips dataset. Find the following from the dataset for the columns total_bill\n",
    "and tip`:"
   ]
  },
  {
   "cell_type": "markdown",
   "id": "f70d9ca1-b593-49b7-88d2-a094e27278bc",
   "metadata": {},
   "source": [
    "  (\u0013) Write a Python function that calculates their skewness"
   ]
  },
  {
   "cell_type": "code",
   "execution_count": 1,
   "id": "0fcd3664-c7dd-4429-bceb-5bd1cf470b49",
   "metadata": {},
   "outputs": [
    {
     "name": "stdout",
     "output_type": "stream",
     "text": [
      "Skewness of 'total_bill': 1.1262346334818638\n",
      "Skewness of 'tip': 1.4564266884221506\n"
     ]
    }
   ],
   "source": [
    "import seaborn as sns\n",
    "import pandas as pd\n",
    "from scipy.stats import skew\n",
    "\n",
    "# Load the tips dataset\n",
    "tips = sns.load_dataset('tips')\n",
    "\n",
    "# Function to calculate skewness\n",
    "def calculate_skewness(data):\n",
    "    return skew(data.dropna())\n",
    "\n",
    "# Calculate skewness for 'total_bill' and 'tip'\n",
    "total_bill_skewness = calculate_skewness(tips['total_bill'])\n",
    "tip_skewness = calculate_skewness(tips['tip'])\n",
    "\n",
    "print(f\"Skewness of 'total_bill': {total_bill_skewness}\")\n",
    "print(f\"Skewness of 'tip': {tip_skewness}\")\n"
   ]
  },
  {
   "cell_type": "markdown",
   "id": "6a0d9d45-0f24-4eb5-bf81-0f429a0e48c1",
   "metadata": {},
   "source": [
    "##   (\u0013\u0013) Create a program that determines whether the columns exhibit positive skewness, negative skewness, or is\n",
    " ## approximately symmetric."
   ]
  },
  {
   "cell_type": "code",
   "execution_count": 2,
   "id": "d570e52f-ae38-4590-bb25-5ba28a125e2f",
   "metadata": {},
   "outputs": [
    {
     "name": "stdout",
     "output_type": "stream",
     "text": [
      "Skewness of 'total_bill': 1.13 - Positive Skewness\n",
      "Skewness of 'tip': 1.46 - Positive Skewness\n"
     ]
    }
   ],
   "source": [
    "import seaborn as sns\n",
    "from scipy.stats import skew\n",
    "\n",
    "# Load the tips dataset\n",
    "tips = sns.load_dataset('tips')\n",
    "\n",
    "# Function to classify skewness\n",
    "def classify_skewness(skewness):\n",
    "    if skewness > 0:\n",
    "        return 'Positive Skewness'\n",
    "    elif skewness < 0:\n",
    "        return 'Negative Skewness'\n",
    "    else:\n",
    "        return 'Approximately Symmetric'\n",
    "\n",
    "# Calculate skewness for 'total_bill' and 'tip'\n",
    "total_bill_skewness = skew(tips['total_bill'].dropna())\n",
    "tip_skewness = skew(tips['tip'].dropna())\n",
    "\n",
    "# Classify skewness\n",
    "total_bill_skewness_classification = classify_skewness(total_bill_skewness)\n",
    "tip_skewness_classification = classify_skewness(tip_skewness)\n",
    "\n",
    "print(f\"Skewness of 'total_bill': {total_bill_skewness:.2f} - {total_bill_skewness_classification}\")\n",
    "print(f\"Skewness of 'tip': {tip_skewness:.2f} - {tip_skewness_classification}\")\n"
   ]
  },
  {
   "cell_type": "markdown",
   "id": "96614da7-a62d-4516-8874-61a1b6d72c14",
   "metadata": {},
   "source": [
    "##   (\u0013\u0013\u0013) Write a function that calculates the covariance between two columns."
   ]
  },
  {
   "cell_type": "code",
   "execution_count": 3,
   "id": "4bcff6c2-1bdf-4283-9d92-b8ad3c2583bb",
   "metadata": {},
   "outputs": [
    {
     "name": "stdout",
     "output_type": "stream",
     "text": [
      "Covariance between 'total_bill' and 'tip': 8.32\n"
     ]
    }
   ],
   "source": [
    "import pandas as pd\n",
    "\n",
    "# Function to calculate covariance between two columns\n",
    "def calculate_covariance(df, col1, col2):\n",
    "    # Ensure columns are numeric\n",
    "    if not pd.api.types.is_numeric_dtype(df[col1]) or not pd.api.types.is_numeric_dtype(df[col2]):\n",
    "        raise ValueError(\"Both columns must be numeric.\")\n",
    "    \n",
    "    # Calculate covariance\n",
    "    covariance = df[[col1, col2]].cov().iloc[0, 1]\n",
    "    return covariance\n",
    "\n",
    "# Example usage with the tips dataset\n",
    "import seaborn as sns\n",
    "\n",
    "# Load the tips dataset\n",
    "tips = sns.load_dataset('tips')\n",
    "\n",
    "# Calculate covariance between 'total_bill' and 'tip'\n",
    "covariance_total_bill_tip = calculate_covariance(tips, 'total_bill', 'tip')\n",
    "\n",
    "print(f\"Covariance between 'total_bill' and 'tip': {covariance_total_bill_tip:.2f}\")\n"
   ]
  },
  {
   "cell_type": "markdown",
   "id": "392084f2-d10e-4792-a2f6-0febc26fd494",
   "metadata": {},
   "source": [
    "## ) Write a Python function to calculate the probability density function (PDF)  a continuous random\n",
    " ## variable for a given normal distribution.\n"
   ]
  },
  {
   "cell_type": "code",
   "execution_count": 4,
   "id": "9874ce46-cc1c-43b5-888d-cc3dd9e9e56f",
   "metadata": {},
   "outputs": [
    {
     "name": "stdout",
     "output_type": "stream",
     "text": [
      "PDF at x=0: 0.3989\n",
      "PDF at x=1: 0.2420\n",
      "PDF at x=2: 0.0540\n"
     ]
    }
   ],
   "source": [
    "from scipy.stats import norm\n",
    "\n",
    "# Function to calculate the PDF of a normal distribution\n",
    "def calculate_pdf(x, mean=0, std_dev=1):\n",
    "    \"\"\"\n",
    "    Calculate the probability density function (PDF) of a normal distribution.\n",
    "\n",
    "    Parameters:\n",
    "    - x: The value(s) at which to evaluate the PDF.\n",
    "    - mean: The mean of the normal distribution (default is 0).\n",
    "    - std_dev: The standard deviation of the normal distribution (default is 1).\n",
    "\n",
    "    Returns:\n",
    "    - The PDF value(s) for the given x.\n",
    "    \"\"\"\n",
    "    return norm.pdf(x, loc=mean, scale=std_dev)\n",
    "\n",
    "# Example usage\n",
    "x_values = [0, 1, 2]  # Example values at which to evaluate the PDF\n",
    "mean = 0\n",
    "std_dev = 1\n",
    "\n",
    "pdf_values = [calculate_pdf(x, mean, std_dev) for x in x_values]\n",
    "\n",
    "for x, pdf in zip(x_values, pdf_values):\n",
    "    print(f\"PDF at x={x}: {pdf:.4f}\")\n"
   ]
  },
  {
   "cell_type": "markdown",
   "id": "09c689c8-2477-4142-9a3b-d33a02c2a9d2",
   "metadata": {},
   "source": [
    "##  Write a Python function to calculate the probability mass 6unction (PMF) of Poisson distribution"
   ]
  },
  {
   "cell_type": "code",
   "execution_count": 5,
   "id": "8b3469db-f3c4-4cbe-b6e1-56c8947604ac",
   "metadata": {},
   "outputs": [
    {
     "name": "stdout",
     "output_type": "stream",
     "text": [
      "PMF at k=0: 0.0498\n",
      "PMF at k=1: 0.1494\n",
      "PMF at k=2: 0.2240\n",
      "PMF at k=3: 0.2240\n",
      "PMF at k=4: 0.1680\n"
     ]
    }
   ],
   "source": [
    "from scipy.stats import poisson\n",
    "\n",
    "# Function to calculate the PMF of a Poisson distribution\n",
    "def calculate_pmf(k, mu):\n",
    "    \"\"\"\n",
    "    Calculate the probability mass function (PMF) of a Poisson distribution.\n",
    "\n",
    "    Parameters:\n",
    "    - k: The value(s) at which to evaluate the PMF (usually non-negative integers).\n",
    "    - mu: The mean (λ) of the Poisson distribution.\n",
    "\n",
    "    Returns:\n",
    "    - The PMF value(s) for the given k.\n",
    "    \"\"\"\n",
    "    return poisson.pmf(k, mu)\n",
    "\n",
    "# Example usage\n",
    "k_values = [0, 1, 2, 3, 4]  # Example values at which to evaluate the PMF\n",
    "mu = 3  # Mean of the Poisson distribution\n",
    "\n",
    "pmf_values = [calculate_pmf(k, mu) for k in k_values]\n",
    "\n",
    "for k, pmf in zip(k_values, pmf_values):\n",
    "    print(f\"PMF at k={k}: {pmf:.4f}\")\n"
   ]
  },
  {
   "cell_type": "markdown",
   "id": "8b6720d4-b533-4964-8ee0-aa534f8b0acb",
   "metadata": {},
   "source": [
    "## A tutoring service claims that its program improves students' exam scores. A sample oN students who\n",
    "   ## participated in the program was taken, and their scores beNore and aNter the program were recorded.\n",
    "\n",
    "\n",
    "Use the below code to ge<erate samples of respective arrays of marks:\n",
    "\n",
    "```python\n",
    "\n",
    "before_program = <p.array([75, 80, 85, 70, 90, 78, 92, 88, 82, 87])\n",
    "\n",
    "after_program = <p.array([80, 85, 90, 80, 92, 80, 95, 90, 85, 88])\n",
    "\n",
    "```\n",
    "\n",
    "Use z-test to fi<d if the claims made by tutor are true or false."
   ]
  },
  {
   "cell_type": "code",
   "execution_count": 7,
   "id": "5dc4a15a-b0f9-4863-970c-bb6164b2fa04",
   "metadata": {},
   "outputs": [
    {
     "name": "stdout",
     "output_type": "stream",
     "text": [
      "T-statistic: 4.5932\n",
      "P-value: 0.0013\n",
      "The tutoring program has a statistically significant effect on exam scores.\n"
     ]
    }
   ],
   "source": [
    "import numpy as np\n",
    "from scipy.stats import ttest_rel\n",
    "\n",
    "# Sample data\n",
    "before_program = np.array([75, 80, 85, 70, 90, 78, 92, 88, 82, 87])\n",
    "after_program = np.array([80, 85, 90, 80, 92, 80, 95, 90, 85, 88])\n",
    "\n",
    "# Perform the paired t-test\n",
    "t_statistic, p_value = ttest_rel(after_program, before_program)\n",
    "\n",
    "# Print the results\n",
    "print(f\"T-statistic: {t_statistic:.4f}\")\n",
    "print(f\"P-value: {p_value:.4f}\")\n",
    "\n",
    "# Interpret the result\n",
    "alpha = 0.05  # significance level\n",
    "if p_value < alpha:\n",
    "    print(\"The tutoring program has a statistically significant effect on exam scores.\")\n",
    "else:\n",
    "    print(\"There is no statistically significant effect of the tutoring program on exam scores.\")\n"
   ]
  },
  {
   "cell_type": "markdown",
   "id": "879c69dc-0829-4b38-91c9-584b2d92bfd7",
   "metadata": {},
   "source": [
    "## 29U A custo:er service depart:ent clai:s that their average response ti:e is less than 5 :inutesV A sa:ple\n",
    " ## of recent custo:er interactions was taken, and the response ti:es were recorded.\n",
    "\n",
    "\n",
    "Impleme3t the below code to ge3erate the array of respo3se time:\n",
    "\n",
    "```python\n",
    "\n",
    "respo3se_times = 3p.array([4.3, 3.8, 5.1, 4.9, 4.7, 4.2, 5.2, 4.5, 4.6, 4.4])\n",
    "\n",
    "```\n",
    "\n",
    "Impleme3t z-test to fi3d the claims made by customer service departme3t are tru or false."
   ]
  },
  {
   "cell_type": "code",
   "execution_count": 8,
   "id": "99364be2-8e5a-4b22-81b7-2d28ac8babda",
   "metadata": {},
   "outputs": [
    {
     "name": "stdout",
     "output_type": "stream",
     "text": [
      "Z-statistic: -3.1845\n",
      "P-value: 0.0007\n",
      "The average response time is significantly less than 5 minutes.\n"
     ]
    }
   ],
   "source": [
    "import numpy as np\n",
    "from scipy.stats import norm\n",
    "\n",
    "# Sample data\n",
    "response_times = np.array([4.3, 3.8, 5.1, 4.9, 4.7, 4.2, 5.2, 4.5, 4.6, 4.4])\n",
    "\n",
    "# Known population mean (claimed average)\n",
    "claimed_mean = 5\n",
    "\n",
    "# Calculate sample mean and standard deviation\n",
    "sample_mean = np.mean(response_times)\n",
    "sample_std = np.std(response_times, ddof=1)  # Using ddof=1 for sample standard deviation\n",
    "sample_size = len(response_times)\n",
    "\n",
    "# Calculate the z-statistic\n",
    "z_statistic = (sample_mean - claimed_mean) / (sample_std / np.sqrt(sample_size))\n",
    "\n",
    "# Compute the p-value for a one-tailed test\n",
    "p_value = norm.cdf(z_statistic)\n",
    "\n",
    "# Print the results\n",
    "print(f\"Z-statistic: {z_statistic:.4f}\")\n",
    "print(f\"P-value: {p_value:.4f}\")\n",
    "\n",
    "# Interpret the result\n",
    "alpha = 0.05  # significance level\n",
    "if p_value < alpha:\n",
    "    print(\"The average response time is significantly less than 5 minutes.\")\n",
    "else:\n",
    "    print(\"There is no significant evidence that the average response time is less than 5 minutes.\")\n"
   ]
  },
  {
   "cell_type": "code",
   "execution_count": 9,
   "id": "e920ad2c-4e88-4167-95ab-fae33769f1b3",
   "metadata": {},
   "outputs": [
    {
     "ename": "SyntaxError",
     "evalue": "invalid syntax (3985607915.py, line 2)",
     "output_type": "error",
     "traceback": [
      "\u001b[0;36m  Cell \u001b[0;32mIn[9], line 2\u001b[0;36m\u001b[0m\n\u001b[0;31m    function to analyze pre- and post-intervention test scores, calculating the t-statistic and p-value to\u001b[0m\n\u001b[0m             ^\u001b[0m\n\u001b[0;31mSyntaxError\u001b[0m\u001b[0;31m:\u001b[0m invalid syntax\n"
     ]
    }
   ],
   "source": [
    "## 2.U A school district introduces an educational intervention progra: to i:prove :ath scoresV Write a Python\n",
    "function to analyze pre- and post-intervention test scores, calculating the t-statistic and p-value to\n",
    "deter:ine if the intervention had a significant i:pact.\n",
    "\n",
    "\n",
    "Use the followi3g data of test score:\n",
    "\n",
    "\n",
    "  ```python\n",
    "\n",
    "  pre_i3terve3tio3_scores = [80, 85, 90, 75, 88, 82, 92, 78, 85, 87]\n",
    "\n",
    "  post_i3terve3tio3_scores = [90, 92, 88, 92, 95, 91, 96, 93, 89, 93]"
   ]
  },
  {
   "cell_type": "markdown",
   "id": "1f7127d2-bb9d-4819-8ff3-23f1dfe3a57d",
   "metadata": {},
   "source": [
    " ## 2.U A school district introduces an educational intervention progra: to improve :ath scoresV Write a Python\n",
    "function to analyze pre- and post-intervention test scores, calculating the t-statistic and p-value to\n",
    "determine if the intervention had a significant impact.\n",
    "\n",
    "\n",
    "Use the followi3g data of test score:\n",
    "\n",
    "\n",
    "  ```python\n",
    "\n",
    "  pre_i3terve3tio3_scores = [80, 85, 90, 75, 88, 82, 92, 78, 85, 87]\n",
    "\n",
    "  post_i3terve3tio3_scores = [90, 92, 88, 92, 95, 91, 96, 93, 89, 93]"
   ]
  },
  {
   "cell_type": "code",
   "execution_count": 10,
   "id": "b15b6a59-d435-45c2-9dfb-268020ddc98e",
   "metadata": {},
   "outputs": [
    {
     "name": "stdout",
     "output_type": "stream",
     "text": [
      "T-statistic: 4.4284\n",
      "P-value: 0.0017\n",
      "The intervention had a statistically significant impact on the test scores.\n"
     ]
    }
   ],
   "source": [
    "from scipy.stats import ttest_rel\n",
    "\n",
    "def analyze_intervention(pre_scores, post_scores):\n",
    "    \"\"\"\n",
    "    Analyze the impact of an educational intervention on test scores.\n",
    "\n",
    "    Parameters:\n",
    "    - pre_scores: List of test scores before the intervention.\n",
    "    - post_scores: List of test scores after the intervention.\n",
    "\n",
    "    Returns:\n",
    "    - t-statistic and p-value from the paired t-test.\n",
    "    \"\"\"\n",
    "    # Perform the paired t-test\n",
    "    t_statistic, p_value = ttest_rel(post_scores, pre_scores)\n",
    "\n",
    "    return t_statistic, p_value\n",
    "\n",
    "# Sample data\n",
    "pre_intervention_scores = [80, 85, 90, 75, 88, 82, 92, 78, 85, 87]\n",
    "post_intervention_scores = [90, 92, 88, 92, 95, 91, 96, 93, 89, 93]\n",
    "\n",
    "# Analyze the impact\n",
    "t_statistic, p_value = analyze_intervention(pre_intervention_scores, post_intervention_scores)\n",
    "\n",
    "# Print the results\n",
    "print(f\"T-statistic: {t_statistic:.4f}\")\n",
    "print(f\"P-value: {p_value:.4f}\")\n",
    "\n",
    "# Interpret the result\n",
    "alpha = 0.05  # significance level\n",
    "if p_value < alpha:\n",
    "    print(\"The intervention had a statistically significant impact on the test scores.\")\n",
    "else:\n",
    "    print(\"There is no statistically significant impact of the intervention on the test scores.\")\n"
   ]
  },
  {
   "cell_type": "markdown",
   "id": "0a26c268-dd95-4a73-ac56-d1d4008d9490",
   "metadata": {},
   "source": [
    "##  A manu@acturer produces two di@@erent versions o@ a product and wants to compare their quality scores.\n",
    "Create a Python @unction to analyze quality assessment data, calculate the t-statistic, and decide\n",
    "whether there's a signi@icant di@@erence in quality between the two versions.\n",
    "\n",
    "\n",
    "Use the following dataY\n",
    "```python\n",
    "\n",
    "version1_scores = [85, 88, 82, 89, 87, 84, 90, 88, 85, 86, 91, 83, 87, 84, 89, 86, 84, 88, 85, 86, 89, 90, 87, 88, 85]\n",
    "\n",
    "version2_scores = [80, 78, 83, 81, 79, 82, 76, 80, 78, 81, 77, 82, 80, 79, 82, 79, 80, 81, 79, 82, 79, 78, 80, 81, 82]"
   ]
  },
  {
   "cell_type": "code",
   "execution_count": 1,
   "id": "344acc87-e7f2-4c59-8a76-06ff203c714b",
   "metadata": {},
   "outputs": [
    {
     "name": "stdout",
     "output_type": "stream",
     "text": [
      "T-statistic: 11.3258\n",
      "P-value: 0.0000\n",
      "There is a statistically significant difference in quality between the two product versions.\n"
     ]
    }
   ],
   "source": [
    "from scipy.stats import ttest_ind\n",
    "\n",
    "def analyze_quality(version1_scores, version2_scores):\n",
    "    \"\"\"\n",
    "    Analyze and compare the quality scores of two different product versions.\n",
    "\n",
    "    Parameters:\n",
    "    - version1_scores: List of quality scores for version 1.\n",
    "    - version2_scores: List of quality scores for version 2.\n",
    "\n",
    "    Returns:\n",
    "    - t-statistic and p-value from the independent two-sample t-test.\n",
    "    \"\"\"\n",
    "    # Perform the independent t-test\n",
    "    t_statistic, p_value = ttest_ind(version1_scores, version2_scores, equal_var=False)\n",
    "\n",
    "    return t_statistic, p_value\n",
    "\n",
    "# Sample data\n",
    "version1_scores = [85, 88, 82, 89, 87, 84, 90, 88, 85, 86, 91, 83, 87, 84, 89, 86, 84, 88, 85, 86, 89, 90, 87, 88, 85]\n",
    "version2_scores = [80, 78, 83, 81, 79, 82, 76, 80, 78, 81, 77, 82, 80, 79, 82, 79, 80, 81, 79, 82, 79, 78, 80, 81, 82]\n",
    "\n",
    "# Analyze the quality scores\n",
    "t_statistic, p_value = analyze_quality(version1_scores, version2_scores)\n",
    "\n",
    "# Print the results\n",
    "print(f\"T-statistic: {t_statistic:.4f}\")\n",
    "print(f\"P-value: {p_value:.4f}\")\n",
    "\n",
    "# Interpret the result\n",
    "alpha = 0.05  # significance level\n",
    "if p_value < alpha:\n",
    "    print(\"There is a statistically significant difference in quality between the two product versions.\")\n",
    "else:\n",
    "    print(\"There is no statistically significant difference in quality between the two product versions.\")\n"
   ]
  },
  {
   "cell_type": "markdown",
   "id": "eed9eb22-7b96-4118-8c35-f0de0cf3bae7",
   "metadata": {},
   "source": [
    "##  A political analyst wants to determine i@ there is a signi@icant association between age groups and voter\n",
    "pre@erences FCandidate A or Candidate B). They collect data @rom a sample o@ 500 voters and classi@y\n",
    "them into di@@erent age groups and candidate pre@erences. Per@orm a Chi-Square test to determine i@\n",
    "there is a signi@icant association between age groups and voter pre@erences.\n",
    "\n",
    "\n",
    "Use the below code to generate data:\n",
    "\n",
    "```python\n",
    "\n",
    "np.random.seed(0)\n",
    "\n",
    "age_groups = np.random.choice([ 18 30 , 31 50 , 51+', 51+'], size=30)\n",
    "\n",
    "voter_preferences = np.random.choice(['Candidate A', 'Candidate B'], size=30)"
   ]
  },
  {
   "cell_type": "code",
   "execution_count": 2,
   "id": "4a49b0a4-7656-44c6-9629-b2b9fabd35ad",
   "metadata": {},
   "outputs": [
    {
     "name": "stdout",
     "output_type": "stream",
     "text": [
      "Contingency Table:\n",
      "Voter Preference  Candidate A  Candidate B\n",
      "Age Group                                 \n",
      "18-30                      95           87\n",
      "31-50                      87           82\n",
      "51+                        84           65\n",
      "\n",
      "Chi-Square Statistic: 0.8780\n",
      "P-value: 0.6447\n",
      "Degrees of Freedom: 2\n",
      "Expected Frequencies Table:\n",
      "[[96.824 85.176]\n",
      " [89.908 79.092]\n",
      " [79.268 69.732]]\n",
      "\n",
      "There is no statistically significant association between age groups and voter preferences.\n"
     ]
    }
   ],
   "source": [
    "import numpy as np\n",
    "import pandas as pd\n",
    "from scipy.stats import chi2_contingency\n",
    "\n",
    "# Set random seed for reproducibility\n",
    "np.random.seed(0)\n",
    "\n",
    "# Generate sample data\n",
    "age_groups = np.random.choice(['18-30', '31-50', '51+'], size=500)\n",
    "voter_preferences = np.random.choice(['Candidate A', 'Candidate B'], size=500)\n",
    "\n",
    "# Create a DataFrame from the generated data\n",
    "data = pd.DataFrame({\n",
    "    'Age Group': age_groups,\n",
    "    'Voter Preference': voter_preferences\n",
    "})\n",
    "\n",
    "# Create a contingency table\n",
    "contingency_table = pd.crosstab(data['Age Group'], data['Voter Preference'])\n",
    "\n",
    "# Perform the Chi-Square test\n",
    "chi2_stat, p_value, dof, expected = chi2_contingency(contingency_table)\n",
    "\n",
    "# Print the results\n",
    "print(\"Contingency Table:\")\n",
    "print(contingency_table)\n",
    "print(f\"\\nChi-Square Statistic: {chi2_stat:.4f}\")\n",
    "print(f\"P-value: {p_value:.4f}\")\n",
    "print(f\"Degrees of Freedom: {dof}\")\n",
    "print(f\"Expected Frequencies Table:\")\n",
    "print(expected)\n",
    "\n",
    "# Interpret the result\n",
    "alpha = 0.05  # significance level\n",
    "if p_value < alpha:\n",
    "    print(\"\\nThere is a statistically significant association between age groups and voter preferences.\")\n",
    "else:\n",
    "    print(\"\\nThere is no statistically significant association between age groups and voter preferences.\")\n"
   ]
  },
  {
   "cell_type": "code",
   "execution_count": null,
   "id": "7eff2cba-8404-4340-8b90-fd57252fad2c",
   "metadata": {},
   "outputs": [],
   "source": [
    "## 23. A company implemented an employee training program to improve job performance (Effective, Neutral,\n",
    "Ineffective). After the training, they collected data from a sample of employees and classified them based\n",
    "on their job performance before and after the training. Perform a Chi-Square test to determine if there is a\n",
    "significant difference between job performance levels before and after the training.\n",
    "\n",
    "\n",
    "Sample data:\n",
    "\n",
    "```python\n",
    "\n",
    "# Sample data: Job performance levels before (rows) and after (columns) training\n",
    "\n",
    "data = np.array([[50, 30, 20], [30, 40, 30], [20, 30, 40]])"
   ]
  }
 ],
 "metadata": {
  "kernelspec": {
   "display_name": "Python 3 (ipykernel)",
   "language": "python",
   "name": "python3"
  },
  "language_info": {
   "codemirror_mode": {
    "name": "ipython",
    "version": 3
   },
   "file_extension": ".py",
   "mimetype": "text/x-python",
   "name": "python",
   "nbconvert_exporter": "python",
   "pygments_lexer": "ipython3",
   "version": "3.10.8"
  }
 },
 "nbformat": 4,
 "nbformat_minor": 5
}
