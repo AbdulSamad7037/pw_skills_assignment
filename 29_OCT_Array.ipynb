{
 "cells": [
  {
   "cell_type": "markdown",
   "id": "fc955bb4-b790-4317-b132-5be355514d8e",
   "metadata": {},
   "source": [
    "1. 1. Given an array, check if it contains any duplicates or not.\n",
    "arr = [1, 2, 4, 2, 5, 9]\n",
    "Output = True"
   ]
  },
  {
   "cell_type": "code",
   "execution_count": 1,
   "id": "cfb6c488-1f5a-4517-9944-0027c32e1300",
   "metadata": {},
   "outputs": [
    {
     "name": "stdout",
     "output_type": "stream",
     "text": [
      "True\n"
     ]
    }
   ],
   "source": [
    "def contains_duplicates(arr):\n",
    "    # Convert the list to a set\n",
    "    unique_elements = set(arr)\n",
    "    \n",
    "    # Compare the length of the set and the list\n",
    "    return len(unique_elements) < len(arr)\n",
    "\n",
    "# Test the function\n",
    "arr = [1, 2, 4, 2, 5, 9]\n",
    "print(contains_duplicates(arr))  # Output: True\n"
   ]
  },
  {
   "cell_type": "markdown",
   "id": "757c3705-fb32-4e00-a525-c5ed08325542",
   "metadata": {},
   "source": [
    "Convert the Array to a Set\n",
    "Initial Array: You start with a given array, for example, [1, 2, 4, 2, 5, 9].\n",
    "\n",
    "Create a Set: Convert this array into a set. Since sets only store unique elements, any duplicates in the array will be removed in the set.\n",
    "\n",
    "For example, when you convert [1, 2, 4, 2, 5, 9] to a set, you get {1, 2, 4, 5, 9}. Notice that the duplicate 2 is only stored once in the set.\n",
    "2. Compare Lengths\n",
    "Compare the Size: Next, compare the length (number of elements) of the set with the length of the original array:\n",
    "\n",
    "Original Array Length: The original array has a certain number of elements, including duplicates.\n",
    "Set Length: The set has fewer elements if there were duplicates in the original array because sets don’t allow duplicates.\n",
    "Determine the Presence of Duplicates: If the length of the set is smaller than the length of the array, it means there were duplicates in the array. If they are the same, it means there were no duplicates."
   ]
  },
  {
   "cell_type": "markdown",
   "id": "1de880e9-a974-4e22-98bf-1ab540c03de1",
   "metadata": {},
   "source": [
    "2.2. Given an array and an integer k, rotate the array to the right by k steps.\n",
    "arr = [1, 2, 3, 4, 5, 6, 7] k = 3\n",
    "Output = [5, 6, 7, 1, 2, 3, 4]"
   ]
  },
  {
   "cell_type": "code",
   "execution_count": 2,
   "id": "5da9082b-2cb1-486f-a382-5c55c0a10184",
   "metadata": {},
   "outputs": [
    {
     "name": "stdout",
     "output_type": "stream",
     "text": [
      "[5, 6, 7, 1, 2, 3, 4]\n"
     ]
    }
   ],
   "source": [
    "def rotate_array(arr, k):\n",
    "    # Calculate the effective rotation, taking into account that k may be larger than len(arr)\n",
    "    k = k % len(arr)\n",
    "    \n",
    "    # Slice the array into two parts and swap them\n",
    "    return arr[-k:] + arr[:-k]\n",
    "\n",
    "# Test the function\n",
    "arr = [1, 2, 3, 4, 5, 6, 7]\n",
    "k = 3\n",
    "rotated_arr = rotate_array(arr, k)\n",
    "print(rotated_arr)  # Output: [5, 6, 7, 1, 2, 3, 4]\n"
   ]
  },
  {
   "cell_type": "markdown",
   "id": "984f32fa-f83f-4359-8869-9ef63809d6b9",
   "metadata": {},
   "source": [
    "3. 3. Reverse the given array in-place, means without using any extra data structure.\n",
    "arr = [2, 4, 5, 7, 9, 12]\n",
    "Output = [12, 9, 7, 5, 4, 2]\n"
   ]
  },
  {
   "cell_type": "code",
   "execution_count": 4,
   "id": "bb75cd2d-d865-4079-8d0d-7d81f91fc311",
   "metadata": {},
   "outputs": [
    {
     "name": "stdout",
     "output_type": "stream",
     "text": [
      "[12, 9, 7, 5, 4, 2]\n"
     ]
    }
   ],
   "source": [
    "def reverse_array(arr):\n",
    "    # Initialize two pointers\n",
    "    left = 0\n",
    "    right = len(arr) - 1\n",
    "    \n",
    "    # Swap elements until the pointers meet in the middle\n",
    "    while left < right:\n",
    "        # Swap the elements at the left and right pointers\n",
    "        arr[left], arr[right] = arr[right], arr[left]\n",
    "        \n",
    "        # Move the pointers towards the center\n",
    "        left += 1\n",
    "        right -= 1\n",
    "\n",
    "# Test the function\n",
    "arr = [2, 4, 5, 7, 9, 12]\n",
    "reverse_array(arr)\n",
    "print(arr)  # Output: [12, 9, 7, 5, 4, 2]\n"
   ]
  },
  {
   "cell_type": "markdown",
   "id": "b81c582a-fbc6-4b2a-8048-d61980f8576e",
   "metadata": {},
   "source": [
    "1. Use Two Pointers\n",
    "Left Pointer: Start at the beginning of the array (position 0).\n",
    "Right Pointer: Start at the end of the array (position n-1, where n is the length of the array).\n",
    "These two pointers will help you track the elements that need to be swapped.\n",
    "\n",
    "2. Swap Elements\n",
    "Begin swapping the element at the left pointer with the element at the right pointer. This moves the first element to the last position and the last element to the first position.\n",
    "\n",
    "After swapping, move the left pointer one step to the right and the right pointer one step to the left.\n",
    "\n",
    "3. Continue Until Pointers Meet\n",
    "Keep repeating the swap-and-move process until the left pointer and right pointer meet in the middle. This happens when the left pointer is no longer less than the right pointer.\n",
    "\n",
    "Once the pointers meet or cross each other, the array is fully reversed."
   ]
  },
  {
   "cell_type": "markdown",
   "id": "ad781daa-4e5a-486d-971d-72975fcf3bb5",
   "metadata": {},
   "source": [
    "5.5. Given a sorted array, remove the duplicate element without using any extra data structure.\n",
    "arr = [1, 1, 2, 2, 2, 3, 3, 4, 4, 4, 5, 5]\n",
    "Output = [1, 2, 3, 4, 5]"
   ]
  },
  {
   "cell_type": "code",
   "execution_count": 5,
   "id": "99b0c3f9-949f-46f6-b6f7-bb9c165e92d9",
   "metadata": {},
   "outputs": [
    {
     "name": "stdout",
     "output_type": "stream",
     "text": [
      "[1, 2, 3, 4, 5]\n"
     ]
    }
   ],
   "source": [
    "def remove_duplicates(arr):\n",
    "    if not arr:\n",
    "        return 0\n",
    "    \n",
    "    # Initialize a pointer to track the position of unique elements\n",
    "    unique_pos = 0\n",
    "    \n",
    "    # Iterate through the array starting from the second element\n",
    "    for i in range(1, len(arr)):\n",
    "        # If the current element is different from the last unique element\n",
    "        if arr[i] != arr[unique_pos]:\n",
    "            # Move the unique_pos pointer and update the value\n",
    "            unique_pos += 1\n",
    "            arr[unique_pos] = arr[i]\n",
    "    \n",
    "    # Slice the array up to the unique_pos + 1 to remove duplicates\n",
    "    return arr[:unique_pos + 1]\n",
    "\n",
    "# Test the function\n",
    "arr = [1, 1, 2, 2, 2, 3, 3, 4, 4, 4, 5, 5]\n",
    "output = remove_duplicates(arr)\n",
    "print(output)  # Output: [1, 2, 3, 4, 5]\n"
   ]
  },
  {
   "cell_type": "markdown",
   "id": "88d51410-f0de-4118-a737-12a8c5c0e6f0",
   "metadata": {},
   "source": [
    "1. Start with the First Element\n",
    "Consider the first element in the array as unique because there’s nothing before it to compare against. This element is the first unique number we’ve found.\n",
    "2. Traverse the Array\n",
    "Begin examining the array from the second element onwards. For each element, compare it with the last unique element you’ve identified.\n",
    "\n",
    "As you go through the array:\n",
    "\n",
    "If the current element is the same as the last unique element: It’s a duplicate, so you skip it and move to the next element.\n",
    "If the current element is different from the last unique element: It’s a new unique number. You then \"move\" this number to the next position in the array where it should be, thus keeping the array in its correct order without duplicates.\n",
    "3. Update the Array in Place\n",
    "As you identify unique elements, you overwrite the next position in the array with this unique value. This process effectively shifts unique elements forward in the array, filling the spots of the duplicates.\n",
    "\n",
    "Continue this process until you’ve checked every element in the array.\n",
    "\n",
    "4. Finalize the Array\n",
    "By the time you finish scanning the array, the first part of the array (up to the position where you stopped) contains all the unique elements in order. Any remaining part of the array (after the unique elements) is irrelevant because the duplicates have been overwritten or ignored."
   ]
  },
  {
   "cell_type": "markdown",
   "id": "c39c8e1d-e989-4622-bee2-4687570e99fb",
   "metadata": {},
   "source": [
    "4.4. Given an array of integers, find the maximum element in an array\n",
    "arr = [10, 5, 20, 8, 15]\n",
    "Output = 20"
   ]
  },
  {
   "cell_type": "code",
   "execution_count": 6,
   "id": "961349dc-49f7-4feb-83aa-7d81a58bf6e4",
   "metadata": {},
   "outputs": [
    {
     "name": "stdout",
     "output_type": "stream",
     "text": [
      "20\n"
     ]
    }
   ],
   "source": [
    "def find_maximum(arr):\n",
    "    # Initialize the maximum with the first element\n",
    "    max_element = arr[0]\n",
    "    \n",
    "    # Iterate through the array starting from the second element\n",
    "    for num in arr[1:]:\n",
    "        # Update max_element if the current number is greater\n",
    "        if num > max_element:\n",
    "            max_element = num\n",
    "    \n",
    "    return max_element\n",
    "\n",
    "# Test the function\n",
    "arr = [10, 5, 20, 8, 15]\n",
    "output = find_maximum(arr)\n",
    "print(output)  # Output: 20\n"
   ]
  },
  {
   "cell_type": "markdown",
   "id": "46913289-8c6f-4677-a38c-8cca75b4bded",
   "metadata": {},
   "source": [
    "Step 1: Start with the First Element\n",
    "Begin by looking at the first number in the list. For now, consider this number as the largest one you've seen so far. This is your \"current maximum.\"\n",
    "\n",
    "Step 2: Compare Each Element\n",
    "Next, move through the list, one number at a time:\n",
    "\n",
    "For each new number you encounter, compare it to your current maximum.\n",
    "If the new number is larger than your current maximum, update your current maximum to this new number. Essentially, you are saying, \"This new number is now the largest I've seen.\"\n",
    "Step 3: Continue Until the End\n",
    "Keep doing this for every number in the list:\n",
    "\n",
    "If the number you're looking at is smaller than your current maximum, you simply move on to the next number.\n",
    "If it’s larger, you update your current maximum.\n",
    "Step 4: Final Result\n",
    "Once you've gone through all the numbers, the value you've identified as the current maximum will be the largest number in the entire list. This number is the maximum element of the array.\n",
    "\n",
    "Example"
   ]
  },
  {
   "cell_type": "code",
   "execution_count": null,
   "id": "b57ca622-dd0b-43dc-96b8-2c9f3aa4f072",
   "metadata": {},
   "outputs": [],
   "source": []
  }
 ],
 "metadata": {
  "kernelspec": {
   "display_name": "Python 3 (ipykernel)",
   "language": "python",
   "name": "python3"
  },
  "language_info": {
   "codemirror_mode": {
    "name": "ipython",
    "version": 3
   },
   "file_extension": ".py",
   "mimetype": "text/x-python",
   "name": "python",
   "nbconvert_exporter": "python",
   "pygments_lexer": "ipython3",
   "version": "3.10.8"
  }
 },
 "nbformat": 4,
 "nbformat_minor": 5
}
